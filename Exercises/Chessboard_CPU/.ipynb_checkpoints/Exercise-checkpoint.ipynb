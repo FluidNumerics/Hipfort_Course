{
 "cells": [
  {
   "cell_type": "markdown",
   "id": "2411e4f0-f856-4f32-b182-2b5f33e80883",
   "metadata": {},
   "source": [
    "# Exercise: Filling a chess board\n",
    "\n",
    "In order to cement the topics learned in this module it is helpful to write a simple program in Fortran. Below is a standard 8x8 chess board:\n",
    "\n",
    "<figure style=\"margin: 1em; margin-left:auto; margin-right:auto; width:70%;\">\n",
    "    <img src=\"../images/Chess_board.svg\">\n",
    "    <figcaption style= \"text-align:lower; margin:1em; float:bottom; vertical-align:bottom;\">A chess board of size 8x8.</figcaption>\n",
    "</figure>\n",
    "\n",
    "The goal for this exercise is to implement the missing Fortran code to allocate memory for the chessboard and fill it with values."
   ]
  },
  {
   "cell_type": "markdown",
   "id": "91b92548-9df2-4310-91a9-7182f8650807",
   "metadata": {},
   "source": [
    "## The exercise (TLDR version)\n",
    "\n",
    "In the file [chessboard_CPU.f90](chessboard_CPU.f90) is the source code to edit. The program is not in a working state and needs additional code in order to work properly. If you click on the link above it will open the file in an editor.\n",
    "\n",
    "There are three different steps to complete:\n",
    "\n",
    "0. Declare values for light and dark squares\n",
    "1. Declare the chessboard `B` as an 8x8 array.\n",
    "2. Use nested loops to fill the chessboard.\n",
    "3. De-allocate any allocated memory\n",
    "\n",
    "## The exercise (Step by step)\n",
    "\n",
    "### Step 0 - Declare values for light and dark\n",
    "\n",
    "You are free to choose the data type and values for both light and dark squares. It is helpful at this step to declare two variables `light` and `dark`. You will use these values to fill the array.\n",
    "\n",
    "### Step 1 - Declare the chessboard as an 8x8 array\n",
    "\n",
    "Using any of the techniques described in the Fortran refresher lesson, declare and allocate an 8x8 array that is associated with the variable `B`.\n",
    "\n",
    "### Step 2 - Use nested loops to fill the chessboard\n",
    "\n",
    "Using Fortran nested loops to fill the array `B` at index `(i0,i1)`. One way to create a chessboard pattern is to declare an integer `k` and use the Fortran modulo operator `mod`, like this.\n",
    "\n",
    "```Fortran\n",
    "k=i0+mod(i1, 2)\n",
    "\n",
    "B(i0, i1) = mod(k+1, 2)*light + mod(k, 2)*dark\n",
    "```\n",
    "\n",
    "You are of course free to come up with your own method of filling the chessboard!\n",
    "\n",
    "### Step 3 - Deallocate any allocated memory\n",
    "\n",
    "Any memory that has been allocated at Step 1 must be de-allocated here."
   ]
  },
  {
   "cell_type": "markdown",
   "id": "34ebf810-9096-48b0-b35d-2edb8a3ea596",
   "metadata": {},
   "source": [
    "## Compile the exercise\n",
    "\n",
    "The code below compiles, installs and runs the `chessboard_CPU` program. There is some code to print the values in **B**, but it is commented out. The code compiles and runs but doesn't produce any output. Edit the file [chessboard_CPU.f90](chessboard_CPU.f90) and run the cell below to compile and run the exercise."
   ]
  },
  {
   "cell_type": "code",
   "execution_count": 3,
   "id": "a007a0a9-2dcc-4b81-b9ee-a7e7a857add7",
   "metadata": {},
   "outputs": [
    {
     "name": "stdout",
     "output_type": "stream",
     "text": [
      "-- hip::amdhip64 is SHARED_LIBRARY\n",
      "-- Configuring done\n",
      "-- Generating done\n",
      "-- Build files have been written to: /home/toby/Pelagos/Projects/Hipfort_Course/build\n",
      "\u001b[35m\u001b[1mScanning dependencies of target memcpy_bench\u001b[0m\n",
      "[  4%] Built target memcpy_bench\n",
      "\u001b[35m\u001b[1mScanning dependencies of target tensoradd_simple\u001b[0m\n",
      "[  8%] Built target tensoradd_simple\n",
      "\u001b[35m\u001b[1mScanning dependencies of target tensoradd_allocatable\u001b[0m\n",
      "[ 13%] Built target tensoradd_allocatable\n",
      "\u001b[35m\u001b[1mScanning dependencies of target tensoradd_pointer\u001b[0m\n",
      "[ 17%] Built target tensoradd_pointer\n",
      "\u001b[35m\u001b[1mScanning dependencies of target tensoradd_function\u001b[0m\n",
      "[ 21%] Built target tensoradd_function\n",
      "\u001b[35m\u001b[1mScanning dependencies of target tensoradd_module\u001b[0m\n",
      "\u001b[35m\u001b[1mConsolidate compiler generated dependencies of target tensoradd_module\u001b[0m\n",
      "[ 30%] Built target tensoradd_module\n",
      "\u001b[35m\u001b[1mScanning dependencies of target tensoradd_cfun\u001b[0m\n",
      "\u001b[35m\u001b[1mConsolidate compiler generated dependencies of target tensoradd_cfun\u001b[0m\n",
      "[ 39%] Built target tensoradd_cfun\n",
      "\u001b[35m\u001b[1mScanning dependencies of target tensoradd_hip_cptr\u001b[0m\n",
      "\u001b[35m\u001b[1mConsolidate compiler generated dependencies of target tensoradd_hip_cptr\u001b[0m\n",
      "[ 50%] Built target tensoradd_hip_cptr\n",
      "\u001b[35m\u001b[1mScanning dependencies of target tensoradd_hip_fptr\u001b[0m\n",
      "\u001b[35m\u001b[1mConsolidate compiler generated dependencies of target tensoradd_hip_fptr\u001b[0m\n",
      "[ 60%] Built target tensoradd_hip_fptr\n",
      "\u001b[35m\u001b[1mScanning dependencies of target tensoradd_hip_oo\u001b[0m\n",
      "\u001b[35m\u001b[1mConsolidate compiler generated dependencies of target tensoradd_hip_oo\u001b[0m\n",
      "[ 73%] Built target tensoradd_hip_oo\n",
      "\u001b[35m\u001b[1mScanning dependencies of target chessboard_CPU_answer\u001b[0m\n",
      "[ 78%] Built target chessboard_CPU_answer\n",
      "\u001b[35m\u001b[1mScanning dependencies of target chessboard_CPU\u001b[0m\n",
      "[ 82%] Built target chessboard_CPU\n",
      "\u001b[35m\u001b[1mScanning dependencies of target chessboard_GPU\u001b[0m\n",
      "\u001b[35m\u001b[1mConsolidate compiler generated dependencies of target chessboard_GPU\u001b[0m\n",
      "[ 91%] Built target chessboard_GPU\n",
      "\u001b[35m\u001b[1mScanning dependencies of target chessboard_GPU_answer\u001b[0m\n",
      "\u001b[35m\u001b[1mConsolidate compiler generated dependencies of target chessboard_GPU_answer\u001b[0m\n",
      "[100%] Built target chessboard_GPU_answer\n",
      "\u001b[36mInstall the project...\u001b[0m\n",
      "-- Install configuration: \"RELEASE\"\n",
      "-- Installing: /home/toby/Pelagos/Projects/Hipfort_Course/install/bin/tensoradd_module\n",
      "-- Installing: /home/toby/Pelagos/Projects/Hipfort_Course/install/bin/tensoradd_cfun\n",
      "-- Installing: /home/toby/Pelagos/Projects/Hipfort_Course/install/bin/chessboard_CPU_answer\n",
      "-- Installing: /home/toby/Pelagos/Projects/Hipfort_Course/install/bin/chessboard_CPU\n",
      " \n",
      " \n",
      " \n",
      " \n",
      " \n",
      " \n",
      " \n",
      " \n"
     ]
    }
   ],
   "source": [
    "!source ../../env; ../../install.sh; chessboard_CPU"
   ]
  },
  {
   "cell_type": "markdown",
   "id": "7fb320c0-b689-441a-bb26-521551514ea0",
   "metadata": {},
   "source": [
    "## Compile and run the answer\n",
    "\n",
    "In the code [chessboard_CPU_answer.f90](chessboard_CPU_answer.f90) is a simple solution to the problem. You're welcome to check the code for any help you might need."
   ]
  },
  {
   "cell_type": "code",
   "execution_count": 4,
   "id": "28deaa6e-33cd-4ff4-9a42-6488b9f1afcb",
   "metadata": {},
   "outputs": [
    {
     "name": "stdout",
     "output_type": "stream",
     "text": [
      "-- hip::amdhip64 is SHARED_LIBRARY\n",
      "-- Configuring done\n",
      "-- Generating done\n",
      "-- Build files have been written to: /home/toby/Pelagos/Projects/Hipfort_Course/build\n",
      "\u001b[35m\u001b[1mScanning dependencies of target memcpy_bench\u001b[0m\n",
      "[  4%] Built target memcpy_bench\n",
      "\u001b[35m\u001b[1mScanning dependencies of target tensoradd_simple\u001b[0m\n",
      "[  8%] Built target tensoradd_simple\n",
      "\u001b[35m\u001b[1mScanning dependencies of target tensoradd_allocatable\u001b[0m\n",
      "[ 13%] Built target tensoradd_allocatable\n",
      "\u001b[35m\u001b[1mScanning dependencies of target tensoradd_pointer\u001b[0m\n",
      "[ 17%] Built target tensoradd_pointer\n",
      "\u001b[35m\u001b[1mScanning dependencies of target tensoradd_function\u001b[0m\n",
      "[ 21%] Built target tensoradd_function\n",
      "\u001b[35m\u001b[1mScanning dependencies of target tensoradd_module\u001b[0m\n",
      "\u001b[35m\u001b[1mConsolidate compiler generated dependencies of target tensoradd_module\u001b[0m\n",
      "[ 30%] Built target tensoradd_module\n",
      "\u001b[35m\u001b[1mScanning dependencies of target tensoradd_cfun\u001b[0m\n",
      "\u001b[35m\u001b[1mConsolidate compiler generated dependencies of target tensoradd_cfun\u001b[0m\n",
      "[ 39%] Built target tensoradd_cfun\n",
      "\u001b[35m\u001b[1mScanning dependencies of target tensoradd_hip_cptr\u001b[0m\n",
      "\u001b[35m\u001b[1mConsolidate compiler generated dependencies of target tensoradd_hip_cptr\u001b[0m\n",
      "[ 50%] Built target tensoradd_hip_cptr\n",
      "\u001b[35m\u001b[1mScanning dependencies of target tensoradd_hip_fptr\u001b[0m\n",
      "\u001b[35m\u001b[1mConsolidate compiler generated dependencies of target tensoradd_hip_fptr\u001b[0m\n",
      "[ 60%] Built target tensoradd_hip_fptr\n",
      "\u001b[35m\u001b[1mScanning dependencies of target tensoradd_hip_oo\u001b[0m\n",
      "\u001b[35m\u001b[1mConsolidate compiler generated dependencies of target tensoradd_hip_oo\u001b[0m\n",
      "[ 73%] Built target tensoradd_hip_oo\n",
      "\u001b[35m\u001b[1mScanning dependencies of target chessboard_CPU_answer\u001b[0m\n",
      "[ 78%] Built target chessboard_CPU_answer\n",
      "\u001b[35m\u001b[1mScanning dependencies of target chessboard_CPU\u001b[0m\n",
      "[ 82%] Built target chessboard_CPU\n",
      "\u001b[35m\u001b[1mScanning dependencies of target chessboard_GPU\u001b[0m\n",
      "\u001b[35m\u001b[1mConsolidate compiler generated dependencies of target chessboard_GPU\u001b[0m\n",
      "[ 91%] Built target chessboard_GPU\n",
      "\u001b[35m\u001b[1mScanning dependencies of target chessboard_GPU_answer\u001b[0m\n",
      "\u001b[35m\u001b[1mConsolidate compiler generated dependencies of target chessboard_GPU_answer\u001b[0m\n",
      "[100%] Built target chessboard_GPU_answer\n",
      "\u001b[36mInstall the project...\u001b[0m\n",
      "-- Install configuration: \"RELEASE\"\n",
      "-- Installing: /home/toby/Pelagos/Projects/Hipfort_Course/install/bin/tensoradd_module\n",
      "-- Installing: /home/toby/Pelagos/Projects/Hipfort_Course/install/bin/tensoradd_cfun\n",
      "-- Installing: /home/toby/Pelagos/Projects/Hipfort_Course/install/bin/chessboard_CPU_answer\n",
      "-- Installing: /home/toby/Pelagos/Projects/Hipfort_Course/install/bin/chessboard_CPU\n",
      "0.0  1.0  0.0  1.0  0.0  1.0  0.0  1.0   \n",
      "1.0  0.0  1.0  0.0  1.0  0.0  1.0  0.0   \n",
      "0.0  1.0  0.0  1.0  0.0  1.0  0.0  1.0   \n",
      "1.0  0.0  1.0  0.0  1.0  0.0  1.0  0.0   \n",
      "0.0  1.0  0.0  1.0  0.0  1.0  0.0  1.0   \n",
      "1.0  0.0  1.0  0.0  1.0  0.0  1.0  0.0   \n",
      "0.0  1.0  0.0  1.0  0.0  1.0  0.0  1.0   \n",
      "1.0  0.0  1.0  0.0  1.0  0.0  1.0  0.0   \n"
     ]
    }
   ],
   "source": [
    "!source ../../env; ../../install.sh; chessboard_CPU_answer"
   ]
  },
  {
   "cell_type": "code",
   "execution_count": null,
   "id": "96347f91-a68b-4c62-a54f-ecb3d6737741",
   "metadata": {},
   "outputs": [],
   "source": []
  }
 ],
 "metadata": {
  "kernelspec": {
   "display_name": "Python 3 (ipykernel)",
   "language": "python",
   "name": "python3"
  },
  "language_info": {
   "codemirror_mode": {
    "name": "ipython",
    "version": 3
   },
   "file_extension": ".py",
   "mimetype": "text/x-python",
   "name": "python",
   "nbconvert_exporter": "python",
   "pygments_lexer": "ipython3",
   "version": "3.10.12"
  }
 },
 "nbformat": 4,
 "nbformat_minor": 5
}
