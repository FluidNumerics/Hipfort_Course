{
 "cells": [
  {
   "cell_type": "markdown",
   "id": "fc3bde2a-a3b9-4dfb-8f38-4666ea3112a5",
   "metadata": {},
   "source": [
    "# Building software with Hipfort"
   ]
  },
  {
   "cell_type": "markdown",
   "id": "ae268cae-440b-45c7-954e-6e741d1d5481",
   "metadata": {},
   "source": [
    "## Software environment\n",
    "\n",
    "Any Fortran source file that incorporates other software through the `use` statement **must** be built with the same Fortran compiler as those other sources. It is then usually required to build Fortran software and interfaces with the **same compiler**. Building software with Hipfort requires the following software installed and ready to go:\n",
    "\n",
    "* A GFortran compiler that is newer than 7.5.0. GFortran appears to be the only one that works at the moment, but this may change in future. \n",
    "* The ROCM stack installed. See [here](https://rocm.docs.amd.com/en/latest/) for latest installation info.\n",
    "    * If you have an integrated graphics card from AMD you still might be able to use HIP. With my Radeon 680M i've had a good experience if I **don't** install the `amdgpu-dkms` package and just use the open source compute driver in the Linux kernel.\n",
    "    * If hipfort is installed with the package manager during the installation of ROCM, you will probably need to remove it. Every unique Fortran compiler that you use must have a corresponding installation of Hipfort.\n",
    "* The Hipfort library built with the same Fortran compiler mentioned above.\n",
    "* Any other software that your application depends on.\n",
    "\n",
    "### Hipfort installation on AMD platforms\n",
    "\n",
    "Compiling and installing `hipfort` must be performed with the same compiler as you will build your application with. When compiling hipfort with gfortran the process should be fairly painless.\n",
    "\n",
    "### Hipfort installation for NVIDIA platforms\n",
    "\n",
    "While installing Hipfort for NVIDIA platforms **don't** set the environment variable `HIP_PLATFORM` to `nvidia`. You can set this environment flag later when building software. During compilation of your program the Hipfort Fortran compiler wrapper `hipfc` will examine `HIP_PLATFORM` and select either the `amdclang++` compiler for AMD devices or `nvcc` compiler for NVIDIA devices."
   ]
  },
  {
   "cell_type": "markdown",
   "id": "c3a21798-4ba2-4fe5-b25c-0850097e5695",
   "metadata": {},
   "source": [
    "## Basic compilation with hipfc\n",
    "\n",
    "Once `hipfort` is installed the compiler wrapper `hipfc` compiler wrapper can be used to compile Fortran sources. It supports the `-hipfort-compiler` option to select what Fortran compiler to use on the backend. Hipfc also supports C and C++ sources, and passes those sources to `hipcc` for compilation. \n",
    "\n",
    "### For AMD\n",
    "\n",
    "The example below compiles mixed Fortran and HIP sources with an AMD graphics card. Notice that I'm passing both `C++` and `Fortran` sources to the compiler wrapper.\n",
    "\n",
    "```bash\n",
    "hipfc hip_utils.f90 math_utils.f90 tensoradd_hip_fptr.f90 kernel_code.cpp -o tensoradd.exe\n",
    "```\n",
    "\n",
    "Compilation in this way usually chooses the architecture for whatever AMD graphics card you are using. You can be specific though on which GPU architecture to compile for using the `--offload-arch` compiler flag. For an Mi250X GPU this would look like:\n",
    "\n",
    "```bash\n",
    "hipfc --offload-arch=gfx90a hip_utils.f90 math_utils.f90 tensoradd_hip_fptr.f90 kernel_code.cpp -o tensoradd.exe\n",
    "```\n",
    "\n",
    "### For NVIDIA\n",
    "\n",
    "For compilation with an NVIDIA graphics card you need to set the environment variable `HIP_PLATFORM=nvidia`, you **also need** to choose the NVIDIA graphics card architecture via the `--offload-arch` compiler flag. For the same sources this works for my RTX 3060 GPU."
   ]
  },
  {
   "cell_type": "markdown",
   "id": "2ec61ff1-309f-4b7a-b4c3-3086fa20e57d",
   "metadata": {},
   "source": [
    "```bash\n",
    "export HIP_PLATFORM=nvidia\n",
    "hipfc --offload-arch=sm_86 hip_utils.f90 math_utils.f90 tensoradd_hip_fptr.f90 kernel_code.cpp -o tensoradd.exe \n",
    "```"
   ]
  },
  {
   "cell_type": "markdown",
   "id": "ee6ca5c2-6fb3-4130-b809-9053cd39284d",
   "metadata": {},
   "source": [
    "### Linking with hipfc\n",
    "\n",
    "When doing compile and link seperately it is usually a path of less pain to have the `hipfc` compiler wrapper pass the right flags on to the linker. Then it can link in the appropriate ROCM libraries."
   ]
  },
  {
   "cell_type": "markdown",
   "id": "691e95e3-dd42-4c79-a286-b6675e5f58ef",
   "metadata": {},
   "source": [
    "## Building cross-platform Hipfort applications with CMake\n",
    "\n",
    "HIP language support was formally introduced in CMake, version 3.21. This means you can set HIP as the language for kernel sources and the compiler will choose the necessary flags. Until version 3.28 of CMake though, the AMD backend was the only one that was supported by the HIP language with CMake. Since HIP on NVIDIA is just a thin wrapper over CUDA calls, an approach that seems to work is to treat device code as the **HIP language** when using an AMD backend, and treat the **same code** as the **CUDA language** when using an NVIDIA backend. Within a `CMakeLists.txt` file you can define the mutually exclusive pairs of macros (`__HIP_PLATFORM_HCC__`, `__HIP_PLATFORM_AMD__`) and (`__HIP_PLATFORM_NVCC__`,`__HIP_PLATFORM_NVIDIA__`) as switches for choosing the backend libraries to use from `hip_runtime.h`."
   ]
  },
  {
   "cell_type": "markdown",
   "id": "2264e22c-2142-4ea1-9e5d-3d8b2f1e09dd",
   "metadata": {},
   "source": [
    "### Set ROCM_PATH\n",
    "\n",
    "This bit of CMAKE code in <a href=\"../CMakeLists.txt\">CMakeLists.txt</a> will set the `ROCM_PATH` variable, which is helpful for CMake to find hip.\n",
    "\n",
    "```CMAKE\n",
    "if(NOT DEFINED ROCM_PATH)\n",
    "    if(NOT DEFINED ENV{ROCM_PATH})\n",
    "        set(ROCM_PATH \"/opt/rocm/\" CACHE PATH \"Path to which ROCm has been installed\")\n",
    "    else()\n",
    "        set(ROCM_PATH $ENV{ROCM_PATH} CACHE PATH \"Path to which ROCm has been installed\")\n",
    "    endif()\n",
    "endif()\n",
    "```"
   ]
  },
  {
   "cell_type": "markdown",
   "id": "43112e5b-fe61-46c3-b2bd-4d77a86edd32",
   "metadata": {},
   "source": [
    "### HIP language\n",
    "\n",
    "You can enable the `HIP` language in the `project` description and that will enable HIP-specific CMake variables that you can work with. In the main <a href=\"../CMakeLists.txt\">CMakeLists.txt</a> file we add the `HIP`, `CXX`, and `Fortran` languages for the build system to support. In later steps we would also like to find the CUDA toolkit, and this seems to need the C language.\n",
    "\n",
    "```CMAKE\n",
    "project(hipfort_course VERSION 1.0.0\n",
    "    DESCRIPTION \"Example codes to accompany a course in hipfort\"\n",
    "    LANGUAGES C HIP CXX Fortran\n",
    ")\n",
    "```"
   ]
  },
  {
   "cell_type": "markdown",
   "id": "e95ee386-79f7-4dd2-aad2-64c43444cbcf",
   "metadata": {},
   "source": [
    "### Set the GPU architecture\n",
    "\n",
    "On an AMD backend we treat the device code as HIP source, and on an NVIDIA backend we treat the device code as CUDA source. In CMake we can prescribe a semicolon-separated list of GPU architectures to build for using the CMake variable `CMAKE_<lang>_ARCHITECTURES`, where `<lang>` is either `HIP` or `CUDA`.\n",
    "\n",
    "Acceptible values for `CMAKE_HIP_ARCHITECTURES` are for example `gfx90a`, `gfx906` and  `gfx1035`, depending on what level of support is available in your installed verison of ROCM.\n",
    "\n",
    "Acceptable values for `CMAKE_CUDA_ARCHIECTURES` are based on the compute capability of the NVIDIA device. For example an `Ampere` device will have compute capability `86`.\n",
    "\n",
    "If `hipfc` is set as the Fortran compiler we can also add the flag `--offload-arch=$GPU_ARCH` to `CMAKE_FORTRAN_FLAGS`. This is an essential flag for compilation with an NVIDIA backend, as well as for some ROCM installations that don't automatically detect the GPU architecture. \n",
    "\n",
    "In <a href=\"../CMakeLists.txt\">CMakeLists.txt</a> we make sure this flags gets into `CMAKE_FORTRAN_FLAGS` as follows:\n",
    "\n",
    "```CMake\n",
    "set( CMAKE_Fortran_FLAGS \"${CMAKE_Fortran_FLAGS} --offload-arch=$ENV{GPU_ARCH}\" )\n",
    "```\n",
    "The environment variable `GPU_ARCH` is the GPU architecture that you want to compile for. For example an AMD Mi250X GPU will have a `GPU_ARCH=gfx90a`, whereas an NVIDIA GH100 will have `GPU_ARCH=sm_90`. This is defined in the `env` environment file. "
   ]
  },
  {
   "cell_type": "markdown",
   "id": "1be8cce3-39dd-435f-a473-3f7808ec119f",
   "metadata": {},
   "source": [
    "### Find HIP\n",
    "\n",
    "The `find_package` directive in CMAKE will then look for a HIP installation. In <a href=\"../CMakeLists.txt\">CMakeLists.txt</a> we use it to require that HIP is found.\n",
    "\n",
    "```CMAKE\n",
    "# HIP\n",
    "find_package(hip REQUIRED)\n",
    "```\n",
    "\n",
    "If HIP is found then the variable `hip_FOUND` will be set to TRUE."
   ]
  },
  {
   "cell_type": "markdown",
   "id": "f1475b60-ae35-4de1-998c-6a0539d67fc9",
   "metadata": {},
   "source": [
    "### Associate the HIP language with kernel sources\n",
    "\n",
    "CMake uses the file extension to choose which language to use when setting up sources for compilation. Files with the `.hip` extension will be treated as `HIP` sources, and compiled with ROCM's internal `clang++` compiler. You can also set which language gets chosen for a particular source file by using `set_source_files_properties` to set the language for a source file or collection of source files. In the example below we set the HIP language for a list of kernel sources called `KERNEL_FILES`.\n",
    "\n",
    "```CMAKE\n",
    "# Set the language for any kernel files\n",
    "set(KERNEL_FILES\n",
    "    ${CMAKE_CURRENT_SOURCE_DIR}/kernel_code.cpp\n",
    ")\n",
    "set_source_files_properties(${KERNEL_FILES} PROPERTIES LANGUAGE HIP)\n",
    "```\n",
    "\n",
    "Since we wish to swap out the HIP language for CUDA in a cross-platform scenario we define a CMake variable in the project <a href=\"../CMakeLists.txt\">CMakeLists.txt</a> called `kernel_lang`\n",
    "\n",
    "```CMAKE\n",
    "\n",
    "# Set language for kernel code\n",
    "set(kernel_lang HIP)\n",
    "```\n",
    "\n",
    "then we can use it to set the language for source files, like this example in <a href=\"../Hipfort_Examples/CMakeLists.txt\">Hipfort_Examples/CMakeLists.txt</a>.\n",
    "\n",
    "```CMAKE\n",
    "set(KERNEL_FILES\n",
    "    ${CMAKE_CURRENT_SOURCE_DIR}/kernel_code.cpp\n",
    ")\n",
    "# Set the language of kernel sources\n",
    "set_source_files_properties(${KERNEL_FILES} PROPERTIES LANGUAGE ${kernel_lang})\n",
    "```"
   ]
  },
  {
   "cell_type": "markdown",
   "id": "640e8d8a-88c0-4647-a071-6905d15d3637",
   "metadata": {},
   "source": [
    "### Link to the HIP library\n",
    "\n",
    "The `find_package(hip)` directive creates two CMake targets `hip::host` and `hip::device` that you can use to link to. The `hip::host` target is just for code that only uses HIP library calls and can be compiled with your chosen C++ compiler, whereas the `hip::device` target provides additional functionality. In <a href=\"../CMakeLists.txt\">CMakeLists.txt</a> we define a CMake variable called `kernel_libs` to contain which kernel library target to link to.\n",
    "\n",
    "```CMAKE\n",
    "# Set libraries for kernel code\n",
    "set(kernel_libs hip::device)\n",
    "```\n",
    "\n",
    "then you can link a target to `${kernel_libs}` like this example in <a href=\"../Hipfort_Examples/CMakeLists.txt\">Hipfort_Examples/CMakeLists.txt</a>\n",
    "\n",
    "```CMAKE\n",
    "# Link in other libraries\n",
    "target_link_libraries(tensoradd_hip_cptr ${kernel_libs})\n",
    "```"
   ]
  },
  {
   "cell_type": "markdown",
   "id": "91a0a44a-2146-4c4c-97ae-1d9100511b63",
   "metadata": {},
   "source": [
    "### Linker for multi-language applications\n",
    "\n",
    "Ordinarily it would be a good choice to use `${kernel_lang}` as the linker language to use. However applications that use the hipfort library need to use `hipfc` as the linker. In <a href=\"../Hipfort_Examples/CMakeLists.txt\">Hipfort_Examples/CMakeLists.txt</a> we set Fortran as the linker language, \n",
    "\n",
    "```CMake\n",
    "set_target_properties(tensoradd_hip_cptr\n",
    "    PROPERTIES LINKER_LANGUAGE Fortran\n",
    ")     \n",
    "```\n",
    "\n",
    "This means that `hipfc` is used as the linker if it is also set as the Fortran compiler. You can set `hipfc` as the Fortran compiler by setting FC=hipfc in the cmake build flags, or setting the environment variable `FC=hipfc`. In this course we set `FC` in the `env` environment variable script."
   ]
  },
  {
   "cell_type": "markdown",
   "id": "51c445e8-94f3-402c-8bd9-887141d3ecbe",
   "metadata": {},
   "source": [
    "### Cross-platform software with CUDA\n",
    "\n",
    "If CUDA is going to be used on the backend then we need to:\n",
    "\n",
    "* Find the cuda toolkit\n",
    "* Change `kernel_lang` to CUDA\n",
    "* Set `kernel_libs` to the CUDA device libraries\n",
    "* Undefine the macros `__HIP_PLATFORM_HCC__`, and `__HIP_PLATFORM_AMD__`\n",
    "* Define the macros `__HIP_PLATFORM_NVCC__`, `__HIP_PLATFORM_NVIDIA__`\n",
    "* Set the GPU architecture for compilation with nvcc\n",
    "\n",
    "The following code from <a href=\"../CMakeLists.txt\">CMakeLists.txt</a> detects if the environment variable `HIP_PLATFORM` is set to `nvidia` and makes the above changes.\n",
    "\n",
    "```CMAKE\n",
    "if (DEFINED ENV{HIP_PLATFORM})\n",
    "    if ($ENV{HIP_PLATFORM} STREQUAL nvidia)\n",
    "        message(\"Performing compilation for an NVIDIA backend.\")\n",
    "        enable_language(CUDA)\n",
    "        set(CUDA_SEPARABLE_COMPILATION ON)\n",
    "        \n",
    "        ## Find the CUDA toolkit, \n",
    "        ## it must be present if we use HIP_PLATFORM=nvidia \n",
    "        find_package(CUDAToolkit REQUIRED)\n",
    "        \n",
    "        set(kernel_lang CUDA)\n",
    "        \n",
    "        ## Append the CUDA toolkit libraries to kernel_libs\n",
    "        ##list(APPEND kernel_libs CUDA::cudart CUDA::cuda_driver)\n",
    "\n",
    "        ## Point kernel_libs to the CUDA toolkit libraries\n",
    "        set(kernel_libs CUDA::cudart CUDA::cuda_driver)\n",
    "        \n",
    "        ## Set your CUDA GPU architectures to use here\n",
    "        set(CMAKE_CUDA_FLAGS \"${CMAKE_CUDA_FLAGS} --gpu-architecture=$ENV{GPU_ARCH}\")\n",
    "\n",
    "        # Set debug flags\n",
    "        set(CMAKE_CUDA_FLAGS_DEBUG \"-g -G\")\n",
    "\n",
    "        ## Change global preprocessor defintions for CUDA sources\n",
    "        \n",
    "        ## Remove any preprocessor definitions for AMD\n",
    "        remove_definitions(-D__HIP_PLATFORM_HCC__ -D__HIP_PLATFORM_AMD__)\n",
    "        ## Replace it with CUDA precprocessor definitions\n",
    "        add_definitions(-D__HIP_PLATFORM_NVCC__ -D__HIP_PLATFORM_NVIDIA__)  \n",
    "    else()\n",
    "        message(\"Performing compilation for an AMD backend.\")        \n",
    "    endif()\n",
    "else()\n",
    "    message(\"Performing compilation for an AMD backend.\")      \n",
    "endif()\n",
    "```"
   ]
  },
  {
   "cell_type": "markdown",
   "id": "773814aa-62e2-4f49-b142-c5b876f40774",
   "metadata": {},
   "source": [
    "### Cross platform installation"
   ]
  },
  {
   "cell_type": "code",
   "execution_count": null,
   "id": "75861f22-1b08-4e57-9298-a0988f16725c",
   "metadata": {},
   "outputs": [],
   "source": []
  }
 ],
 "metadata": {
  "kernelspec": {
   "display_name": "Python 3 (ipykernel)",
   "language": "python",
   "name": "python3"
  },
  "language_info": {
   "codemirror_mode": {
    "name": "ipython",
    "version": 3
   },
   "file_extension": ".py",
   "mimetype": "text/x-python",
   "name": "python",
   "nbconvert_exporter": "python",
   "pygments_lexer": "ipython3",
   "version": "3.10.12"
  }
 },
 "nbformat": 4,
 "nbformat_minor": 5
}
