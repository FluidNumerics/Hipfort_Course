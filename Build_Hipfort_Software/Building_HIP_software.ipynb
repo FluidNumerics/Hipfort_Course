{
 "cells": [
  {
   "cell_type": "markdown",
   "id": "fc3bde2a-a3b9-4dfb-8f38-4666ea3112a5",
   "metadata": {},
   "source": [
    "# Building software with HIP"
   ]
  },
  {
   "cell_type": "markdown",
   "id": "ae268cae-440b-45c7-954e-6e741d1d5481",
   "metadata": {},
   "source": [
    "## Software environment\n",
    "\n",
    "Building software with HIP requires the following software installed and ready to go:\n",
    "\n",
    "* A GFortran compiler that is newer than 7.5.0. Only GFortran appears to work at the moment, but that may change in future. \n",
    "* The ROCM stack installed. See [here](https://rocm.docs.amd.com/en/latest/) for latest installation info.\n",
    "* The Hipfort library built with the same Fortran compiler mentioned above.\n",
    "* Any other software that your application depends on.\n",
    "\n",
    "> Any Fortran modules that your application includes with the `use` statment must all be built with the same compiler. Otherwise it will generate an error.\n",
    "\n",
    "### Hipfort installation for NVIDIA platforms\n",
    "\n",
    "When using an NVIDIA backend, some libraries like hipBLAS need to be compiled with the environment variable `HIP_PLATFORM` set to `nvidia`. Leave this environment variable unset during compilation of hipfort. "
   ]
  },
  {
   "cell_type": "markdown",
   "id": "c3a21798-4ba2-4fe5-b25c-0850097e5695",
   "metadata": {},
   "source": [
    "## Basic compilation\n",
    "\n",
    "The `hipfc` compiler wrapper can be used to compile Fortran sources. It supports the `-hipfort-compiler` option to select what Fortran compiler to use on the backend. Hipfc also supports C and C++ sources and passes those sources to `hipcc` for compilation. \n",
    "\n",
    "### For AMD\n",
    "\n",
    "The example below compiles mixed Fortran and HIP sources with an AMD graphics card. \n",
    "\n",
    "```bash\n",
    "hipfc hip_utils.f90 math_utils.f90 tensoradd_hip_fptr.f90 kernel_code.cpp -o tensoradd.exe\n",
    "```\n",
    "\n",
    "Compilation in this way usually chooses the architecture for the AMD graphics card you are using.\n",
    "\n",
    "### For NVIDIA\n",
    "\n",
    "For compilation with an NVIDIA graphics card you need to set the environment variable `HIP_PLATFORM=nvidia` and choose the NVIDIA graphics card architecture via the `--offload-arch` compiler flag. For the same sources this works for my RTX 3060 GPU."
   ]
  },
  {
   "cell_type": "markdown",
   "id": "2ec61ff1-309f-4b7a-b4c3-3086fa20e57d",
   "metadata": {},
   "source": [
    "```bash\n",
    "export HIP_PLATFORM=nvidia\n",
    "hipfc --offload-arch=sm_86 hip_utils.f90 math_utils.f90 tensoradd_hip_fptr.f90 kernel_code.cpp -o tensoradd.exe \n",
    "```"
   ]
  },
  {
   "cell_type": "markdown",
   "id": "ee6ca5c2-6fb3-4130-b809-9053cd39284d",
   "metadata": {},
   "source": [
    "### Compile and link\n",
    "\n",
    "When doing compile and link seperately it is usually a path of less pain to have the `hipcc` or `hipfc` compiler wrappers pass things on to the linker. Then it can link in the appropriate ROCM libraries."
   ]
  },
  {
   "cell_type": "markdown",
   "id": "b38689b5-e10b-4e0b-adcb-d7b38c39dc30",
   "metadata": {},
   "source": [
    "## Building with CMAKE"
   ]
  },
  {
   "cell_type": "markdown",
   "id": "c958bc1a-b65a-494d-808e-f6857a064786",
   "metadata": {},
   "source": [
    "### Pure AMD installation"
   ]
  },
  {
   "cell_type": "markdown",
   "id": "773814aa-62e2-4f49-b142-c5b876f40774",
   "metadata": {},
   "source": [
    "### Cross platform installation"
   ]
  },
  {
   "cell_type": "code",
   "execution_count": null,
   "id": "75861f22-1b08-4e57-9298-a0988f16725c",
   "metadata": {},
   "outputs": [],
   "source": []
  }
 ],
 "metadata": {
  "kernelspec": {
   "display_name": "Python 3 (ipykernel)",
   "language": "python",
   "name": "python3"
  },
  "language_info": {
   "codemirror_mode": {
    "name": "ipython",
    "version": 3
   },
   "file_extension": ".py",
   "mimetype": "text/x-python",
   "name": "python",
   "nbconvert_exporter": "python",
   "pygments_lexer": "ipython3",
   "version": "3.10.12"
  }
 },
 "nbformat": 4,
 "nbformat_minor": 5
}
