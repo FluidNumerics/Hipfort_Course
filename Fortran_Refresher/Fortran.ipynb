{
 "cells": [
  {
   "cell_type": "markdown",
   "id": "a149983d-13a0-4b4c-9ddf-cfc29ce29bfc",
   "metadata": {},
   "source": [
    "# Fortran fundamentals"
   ]
  },
  {
   "cell_type": "markdown",
   "id": "3f9e0fa7-e9ca-4213-8f7a-3b3e0bffa346",
   "metadata": {},
   "source": [
    "Problem encountered with aligned memory!"
   ]
  },
  {
   "cell_type": "code",
   "execution_count": null,
   "id": "ab721e07-3e25-47fd-8690-fb2716b58fb4",
   "metadata": {},
   "outputs": [],
   "source": []
  }
 ],
 "metadata": {
  "kernelspec": {
   "display_name": "Python 3 (ipykernel)",
   "language": "python",
   "name": "python3"
  },
  "language_info": {
   "codemirror_mode": {
    "name": "ipython",
    "version": 3
   },
   "file_extension": ".py",
   "mimetype": "text/x-python",
   "name": "python",
   "nbconvert_exporter": "python",
   "pygments_lexer": "ipython3",
   "version": "3.10.12"
  }
 },
 "nbformat": 4,
 "nbformat_minor": 5
}
