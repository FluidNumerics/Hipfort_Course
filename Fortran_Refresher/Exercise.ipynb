{
 "cells": [
  {
   "cell_type": "markdown",
   "id": "2411e4f0-f856-4f32-b182-2b5f33e80883",
   "metadata": {},
   "source": [
    "# Exercise: Filling a chess board\n",
    "\n",
    "In order to cement the topics learned in this module it is helpful to write a simple program in Fortran. Below is a standard 8x8 chess board:\n",
    "\n",
    "<figure style=\"margin: 1em; margin-left:auto; margin-right:auto; width:70%;\">\n",
    "    <img src=\"../images/Chess_board.svg\">\n",
    "    <figcaption style= \"text-align:lower; margin:1em; float:bottom; vertical-align:bottom;\">A chess board of size 8x8.</figcaption>\n",
    "</figure>\n",
    "\n",
    "The goal for this exercise is to allocate memory for the chessboard and fill it with values."
   ]
  },
  {
   "cell_type": "markdown",
   "id": "91b92548-9df2-4310-91a9-7182f8650807",
   "metadata": {},
   "source": [
    "## The exercise \n",
    "\n",
    "In the file [chessboard.f90](chessboard.f90) is the source code to edit. The code is half-complete and needs additional code in order to work properly. If you click on the link above it will open the file in an editor.\n",
    "\n",
    "```Fortran\n",
    "program chessboard\n",
    "    !! Program to fill a chessboard with values and print the result\n",
    "\n",
    "    ! Add this to use the standard Fortran environment module\n",
    "    use iso_fortran_env\n",
    "    use iso_c_binding\n",
    "\n",
    "    ! Add this to make sure that all variables must be declared\n",
    "    ! and the compiler performs no type inferencing based on the \n",
    "    ! on the first letter of variable names\n",
    "    implicit none\n",
    "\n",
    "    ! Number of elements in the tensors\n",
    "    integer, parameter :: M=8, N=8\n",
    "\n",
    "    ! Matrix indices\n",
    "    integer :: i, j\n",
    "\n",
    "    ! Declare a chessboard here\n",
    "\n",
    "    ! Fill the chessboard\n",
    "\n",
    "    ! Print out the array\n",
    "    do i=1,N\n",
    "        do j=1,M\n",
    "            ! Print values in the chessboard\n",
    "            !write(*, '(F3.1XX) ', advance=\"no\") A(i,j)\n",
    "        end do\n",
    "        ! Print a new line\n",
    "        print *, \"\"\n",
    "    end do\n",
    "\n",
    "    ! Deallocate any allocated memory\n",
    "    \n",
    "end program chessboard\n",
    "```\n",
    "\n",
    "Using any of the concepts taught in this module, your tasks are:\n",
    "\n",
    "* Declare a two-dimensional array **A**\n",
    "* Fill the array with values corresponding to light and dark cells.\n",
    "* Cleanup any declared arrays\n",
    "\n",
    "It is up to you to decide the data type for **A** and what values to choose for light and dark squares."
   ]
  },
  {
   "cell_type": "markdown",
   "id": "34ebf810-9096-48b0-b35d-2edb8a3ea596",
   "metadata": {},
   "source": [
    "## Compile the exercise\n",
    "\n",
    "The code below compiles, installs and runs the `chessboard` program. There is some code to print the values in **A**, and the code compiles and runs but doesn't produce any output. Edit the file [chessboard.f90](chessboard.f90) and run the cell below to compile and run the exercise."
   ]
  },
  {
   "cell_type": "code",
   "execution_count": 31,
   "id": "a007a0a9-2dcc-4b81-b9ee-a7e7a857add7",
   "metadata": {},
   "outputs": [
    {
     "name": "stdout",
     "output_type": "stream",
     "text": [
      "-- hip::amdhip64 is SHARED_LIBRARY\n",
      "-- Configuring done\n",
      "-- Generating done\n",
      "-- Build files have been written to: /home/toby/Pelagos/Projects/Hipfort_Course/Fortran_Refresher/build\n",
      "\u001b[35m\u001b[1mScanning dependencies of target memcpy_bench\u001b[0m\n",
      "[  9%] Built target memcpy_bench\n",
      "\u001b[35m\u001b[1mScanning dependencies of target tensoradd_simple\u001b[0m\n",
      "[ 18%] Built target tensoradd_simple\n",
      "\u001b[35m\u001b[1mScanning dependencies of target tensoradd_allocatable\u001b[0m\n",
      "[ 27%] Built target tensoradd_allocatable\n",
      "\u001b[35m\u001b[1mScanning dependencies of target tensoradd_pointer\u001b[0m\n",
      "[ 36%] Built target tensoradd_pointer\n",
      "\u001b[35m\u001b[1mScanning dependencies of target tensoradd_function\u001b[0m\n",
      "[ 45%] Built target tensoradd_function\n",
      "\u001b[35m\u001b[1mScanning dependencies of target tensoradd_module\u001b[0m\n",
      "\u001b[35m\u001b[1mConsolidate compiler generated dependencies of target tensoradd_module\u001b[0m\n",
      "[ 63%] Built target tensoradd_module\n",
      "\u001b[35m\u001b[1mScanning dependencies of target tensoradd_cfun\u001b[0m\n",
      "\u001b[35m\u001b[1mConsolidate compiler generated dependencies of target tensoradd_cfun\u001b[0m\n",
      "[ 81%] Built target tensoradd_cfun\n",
      "\u001b[35m\u001b[1mScanning dependencies of target chessboard_answer\u001b[0m\n",
      "[ 90%] Built target chessboard_answer\n",
      "\u001b[35m\u001b[1mScanning dependencies of target chessboard\u001b[0m\n",
      "[100%] Built target chessboard\n",
      "\u001b[36mInstall the project...\u001b[0m\n",
      "-- Install configuration: \"\"\n",
      "-- Installing: /home/toby/Pelagos/Projects/Hipfort_Course/install/bin/tensoradd_module\n",
      "-- Set runtime path of \"/home/toby/Pelagos/Projects/Hipfort_Course/install/bin/tensoradd_module\" to \"\"\n",
      "-- Installing: /home/toby/Pelagos/Projects/Hipfort_Course/install/bin/tensoradd_cfun\n",
      "-- Set runtime path of \"/home/toby/Pelagos/Projects/Hipfort_Course/install/bin/tensoradd_cfun\" to \"\"\n",
      "-- Installing: /home/toby/Pelagos/Projects/Hipfort_Course/install/bin/chessboard_answer\n",
      "-- Installing: /home/toby/Pelagos/Projects/Hipfort_Course/install/bin/chessboard\n",
      " \n",
      " \n",
      " \n",
      " \n",
      " \n",
      " \n",
      " \n",
      " \n"
     ]
    }
   ],
   "source": [
    "!source ../env; ../install.sh; chessboard"
   ]
  },
  {
   "cell_type": "markdown",
   "id": "7fb320c0-b689-441a-bb26-521551514ea0",
   "metadata": {},
   "source": [
    "## Compile and run the answer\n",
    "\n",
    "In the code [chessboard_answer.f90](chessboard_answer.f90) is a simple solution to the problem. You're welcome to check the code for any help you might need."
   ]
  },
  {
   "cell_type": "code",
   "execution_count": 32,
   "id": "28deaa6e-33cd-4ff4-9a42-6488b9f1afcb",
   "metadata": {},
   "outputs": [
    {
     "name": "stdout",
     "output_type": "stream",
     "text": [
      "-- hip::amdhip64 is SHARED_LIBRARY\n",
      "-- Configuring done\n",
      "-- Generating done\n",
      "-- Build files have been written to: /home/toby/Pelagos/Projects/Hipfort_Course/Fortran_Refresher/build\n",
      "\u001b[35m\u001b[1mScanning dependencies of target memcpy_bench\u001b[0m\n",
      "[  9%] Built target memcpy_bench\n",
      "\u001b[35m\u001b[1mScanning dependencies of target tensoradd_simple\u001b[0m\n",
      "[ 18%] Built target tensoradd_simple\n",
      "\u001b[35m\u001b[1mScanning dependencies of target tensoradd_allocatable\u001b[0m\n",
      "[ 27%] Built target tensoradd_allocatable\n",
      "\u001b[35m\u001b[1mScanning dependencies of target tensoradd_pointer\u001b[0m\n",
      "[ 36%] Built target tensoradd_pointer\n",
      "\u001b[35m\u001b[1mScanning dependencies of target tensoradd_function\u001b[0m\n",
      "[ 45%] Built target tensoradd_function\n",
      "\u001b[35m\u001b[1mScanning dependencies of target tensoradd_module\u001b[0m\n",
      "\u001b[35m\u001b[1mConsolidate compiler generated dependencies of target tensoradd_module\u001b[0m\n",
      "[ 63%] Built target tensoradd_module\n",
      "\u001b[35m\u001b[1mScanning dependencies of target tensoradd_cfun\u001b[0m\n",
      "\u001b[35m\u001b[1mConsolidate compiler generated dependencies of target tensoradd_cfun\u001b[0m\n",
      "[ 81%] Built target tensoradd_cfun\n",
      "\u001b[35m\u001b[1mScanning dependencies of target chessboard_answer\u001b[0m\n",
      "[ 90%] Built target chessboard_answer\n",
      "\u001b[35m\u001b[1mScanning dependencies of target chessboard\u001b[0m\n",
      "[100%] Built target chessboard\n",
      "\u001b[36mInstall the project...\u001b[0m\n",
      "-- Install configuration: \"\"\n",
      "-- Installing: /home/toby/Pelagos/Projects/Hipfort_Course/install/bin/tensoradd_module\n",
      "-- Set runtime path of \"/home/toby/Pelagos/Projects/Hipfort_Course/install/bin/tensoradd_module\" to \"\"\n",
      "-- Installing: /home/toby/Pelagos/Projects/Hipfort_Course/install/bin/tensoradd_cfun\n",
      "-- Set runtime path of \"/home/toby/Pelagos/Projects/Hipfort_Course/install/bin/tensoradd_cfun\" to \"\"\n",
      "-- Installing: /home/toby/Pelagos/Projects/Hipfort_Course/install/bin/chessboard_answer\n",
      "-- Installing: /home/toby/Pelagos/Projects/Hipfort_Course/install/bin/chessboard\n",
      "0.0  1.0  0.0  1.0  0.0  1.0  0.0  1.0   \n",
      "1.0  0.0  1.0  0.0  1.0  0.0  1.0  0.0   \n",
      "0.0  1.0  0.0  1.0  0.0  1.0  0.0  1.0   \n",
      "1.0  0.0  1.0  0.0  1.0  0.0  1.0  0.0   \n",
      "0.0  1.0  0.0  1.0  0.0  1.0  0.0  1.0   \n",
      "1.0  0.0  1.0  0.0  1.0  0.0  1.0  0.0   \n",
      "0.0  1.0  0.0  1.0  0.0  1.0  0.0  1.0   \n",
      "1.0  0.0  1.0  0.0  1.0  0.0  1.0  0.0   \n"
     ]
    }
   ],
   "source": [
    "!source ../env; ../install.sh; chessboard_answer"
   ]
  }
 ],
 "metadata": {
  "kernelspec": {
   "display_name": "Python 3 (ipykernel)",
   "language": "python",
   "name": "python3"
  },
  "language_info": {
   "codemirror_mode": {
    "name": "ipython",
    "version": 3
   },
   "file_extension": ".py",
   "mimetype": "text/x-python",
   "name": "python",
   "nbconvert_exporter": "python",
   "pygments_lexer": "ipython3",
   "version": "3.10.12"
  }
 },
 "nbformat": 4,
 "nbformat_minor": 5
}
