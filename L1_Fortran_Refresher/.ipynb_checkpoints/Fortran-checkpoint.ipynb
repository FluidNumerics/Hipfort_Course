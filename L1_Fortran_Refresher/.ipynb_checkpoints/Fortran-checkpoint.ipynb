{
 "cells": [
  {
   "cell_type": "markdown",
   "id": "a149983d-13a0-4b4c-9ddf-cfc29ce29bfc",
   "metadata": {},
   "source": [
    "# Fortran refresher"
   ]
  },
  {
   "cell_type": "markdown",
   "id": "aa97007f-2977-46fa-8cb6-ea4eb27c78f3",
   "metadata": {},
   "source": [
    "## Introduction\n",
    "\n",
    "Fortran was developed in the 1950's as a purpose built language for STEM applications. It is a good language to use for high performance computing because it is **easy** to understand, highly performant, and comes with a first-rate multi-dimensional array implementation. Furthermore, the language has access to both thread-level and accelerator-assisted paralleism via extensions such as OpenMP and OpenACC, as well as access to process-level parallelism with a message passing library.\n",
    "\n",
    "It is true that older versions of the Fortran standard (i.e Fortran 77 and earlier) have archaic features and idiosyncrasies that may discourage folks with training in modern coding techniques. However, like other standard programming languages such as C++, the standard is under active development, and modern Fortran programs can even be expressed in object-oriented coding styles. Some of the benefits include:\n",
    "\n",
    "* Longevity, Fortran will be around as a standard for a long time.\n",
    "* First-rate multi-dimensional array implementation. Arrays of up to seven dimensions are supported, with easy **numpy-like** array access.\n",
    "* High performance. Compilers can optimize Fortran code so that it runs very quickly.\n",
    "* Compiler-optimized memory management. Compilers are free to organise and manage memory allocations in optimal ways.\n",
    "\n",
    "Some potential drawbacks include:\n",
    "\n",
    "* Objects are passed to subroutines and functions **by reference** as the default. This potentially has impacts for memory safety.\n",
    "* Poor IO functionality, string handling and concatenation.\n",
    "* Memory alignment complexities when interfacing Fortran with C\n",
    "* No central website for the Fortran standard. The site [Fortran Lang](https://fortran-lang.org/) is a good resource for news and updates on Fortran.\n",
    "* Finding expertise in Fortran is difficult"
   ]
  },
  {
   "cell_type": "markdown",
   "id": "ac1e4fac-297d-493f-8a37-bfcd14fdbc09",
   "metadata": {},
   "source": [
    "## Teaching method\n",
    "\n",
    "This teaching module does not aim to provide an **exhaustive** introduction to Fortran. Instead we aim to cover concepts that are helpful when using Fortran code with libraries such as the [Hipfort](https://rocm.docs.amd.com/projects/hipfort/en/latest/) interface to AMD's [HIP](https://rocm.docs.amd.com/projects/HIP/en/latest/) GPU library and runtime. We do this using a simple tensor addition example. If **A**, **B**, and **C** are tensors of rank 1, then at each index $i$ the following equation holds true:\n",
    "\n",
    "$$\n",
    "\\textbf{C}(i) = \\textbf{A}(i) + \\textbf{B}(i)\n",
    "$$\n",
    "\n",
    "We solve this problem a number of ways by example, using Fortran programs that progressively demonstrate features available to the Fortran language. Programmers from other languages will then readily be able to map concepts to their language of expertise. We choose to follow the modern 2008 standard and disregard archaic language features such as fixed source form. "
   ]
  },
  {
   "cell_type": "markdown",
   "id": "1626983b-6c71-41e6-b9e5-e4c009939b72",
   "metadata": {},
   "source": [
    "## Example code\n",
    "\n",
    "In the program [tensoradd_simple.f90](tensoradd_simple.f90) is a simple example of a Fortran program that peforms tensor addition. Let's open the file by clicking the link above and go through the source line by line. "
   ]
  },
  {
   "cell_type": "markdown",
   "id": "edd381ca-008c-44d4-953a-d80905d0b01b",
   "metadata": {},
   "source": [
    "## Program\n",
    "\n",
    "Every Fortran program has one (and only one) **program** construct followed by the name of the program. \n",
    "\n",
    "```Fortran\n",
    "program tensoradd\n",
    "```\n",
    "\n",
    "at the end of the program there is a corresponding **end** statement to signify the end of the program. \n",
    "\n",
    "```Fortran\n",
    "end program tensoradd\n",
    "```\n",
    "\n",
    "It is good practice to also **include the name** of that which is being ended, in this case we are ending **program tensoradd**."
   ]
  },
  {
   "cell_type": "markdown",
   "id": "8b6537ec-4e5a-4edf-8f08-e09e6ed64ac3",
   "metadata": {},
   "source": [
    "## Comments\n",
    "\n",
    "Comments in Fortran start with a `!`, anything beyond the `!` is normally disregarded by the compiler if it doesn't form part of some directive like an OpenMP or OpenACC construct. The [FORD](https://forddocs.readthedocs.io/en/latest/) documentation generator uses a double `!!` to signify comments that should be in the documentation. \n",
    "\n",
    "```Fortran\n",
    "   !! Program to compute a 1D tensor addition\n",
    "   !! Written by Dr. Toby Potter and Dr. Joseph Schoonover\n",
    "```\n",
    "\n",
    "Other comments are to provide assistance to other programmers, most likely your **future self**. In literate programming, attributed to [Donald Knuth](https://en.wikipedia.org/wiki/Literate_programming), it is useful to think of comments as an explanation to the compiler of what the comment is saying."
   ]
  },
  {
   "cell_type": "markdown",
   "id": "9c3365e7-58ec-4d63-8896-f35c9a47f5ed",
   "metadata": {
    "jp-MarkdownHeadingCollapsed": true
   },
   "source": [
    "## Import external modules with `use`\n",
    "\n",
    "A `module` is a collection of variables and routines that can be imported from any program, function, or subroutine. The `use` statement can bring in functions and variables that are defined in Fortran modules. Here we put a `use` statement to import the module `iso_fortran_env`, a well known and helpful library of useful data types and definitions.\n",
    "\n",
    "```Fortran\n",
    "   ! Add this to use the standard fortran environment module\n",
    "    use iso_fortran_env\n",
    "```\n",
    "\n",
    "We will discuss constructing modules further in a later topic."
   ]
  },
  {
   "cell_type": "markdown",
   "id": "d29ba65e-910d-4ea5-98f4-2df9f5728d6b",
   "metadata": {},
   "source": [
    "## Variable names\n",
    "\n",
    "In Fortran all variables must be declared **before any other statements**. This means declaring all the variables we are going to use at the beginning, as opposed to when they are needed. Variable names must begin with a letter and may contain letters `[a-zA-Z]`, numbers `[0-9]`, or an underscore `_`. Fortran is also **case insensitive** by default, meaning that uppercase and lowercase code is interpreted the same way unless you set a compiler flag.\n",
    "\n",
    "## Implicit (weak) typing\n",
    "\n",
    "By default Fortran also has implicit typing. This means that if a variable starts with `i, j, k, l, m, n` then a variable is interpreted as a (32-bit) integer, otherwise it is interpreted a (32-bit) floating point number. It is good practice to make sure that no implicit typing occurs with the `implicit none` statement.\n",
    "\n",
    "```Fortran\n",
    "    ! Add this to make sure that all variables must be declared\n",
    "    ! and the compiler performs no type inferencing based on the \n",
    "    ! on the first letter of variable names\n",
    "    implicit none\n",
    "```"
   ]
  },
  {
   "cell_type": "markdown",
   "id": "1fd2df10-d809-4d5e-b2ba-185c820c7981",
   "metadata": {},
   "source": [
    "## Basic Fortran data types\n",
    "\n",
    "There are a number of basic data types in Fortran, shown in the table below. Each data type has a default number of bytes that it uses, but has options for varying the number of bytes employed. \n",
    "\n",
    "| Data type | default number of bytes |\n",
    "|:--:|:--:|\n",
    "| integer | 4 |\n",
    "| real | 4 |\n",
    "| complex | 2x4 |\n",
    "| logical | 4 |\n",
    "| character | 1 |\n",
    "\n",
    "Compiler flags can be used to vary the number of bytes used as the default for integers and reals, however this is **not a good idea** when data is being transferred between systems, such as to a GPU, or between routines that are written and compiled in another language. For these instances it is better to use predetermined types with a fixed number of bytes. The [iso_fortran_env](https://fortranwiki.org/fortran/show/iso_fortran_env) module that we included at the beginning defines a number of standard data types with a **fixed number of bytes**. It is advisable to use these data types, particularly when having a standard number of bits to represent your data is a priority."
   ]
  },
  {
   "cell_type": "markdown",
   "id": "d4676312-95da-4838-af79-ad38befbb851",
   "metadata": {},
   "source": [
    "## Declaring variables\n",
    "\n",
    "All variables must be declared after any `use` or `implicit none` statements, and before any other statements. Declaring a variable is done by specifying the variable type, with any options followed by `::` then the variable name and an optionally an equals sign `=` for variable initialisation. Here we create an integer `N` with a value of 16. The option `parameter` tells the compiler that the variable is fixed as a parameter and is effectively read-only.\n",
    "\n",
    "```Fortran\n",
    "integer, parameter :: N=16\n",
    "```\n",
    "\n",
    "Similarly, we define a `eps_mult` as a real with a value of 2.0.\n",
    "\n",
    "```Fortran\n",
    "real :: eps_mult = 2.0\n",
    "```\n",
    "\n",
    "Logical values are either `.true.` or `.false.` the value `success` contains wether or not the validation was successful. Here we set it to `.true.` unlesss proven otherwise.\n",
    "\n",
    "```Fortran\n",
    "logical :: success = .true.\n",
    "```"
   ]
  },
  {
   "cell_type": "markdown",
   "id": "25794682-fee0-4fe0-a6e3-103b7879c631",
   "metadata": {},
   "source": [
    "### Static arrays\n",
    "\n",
    "Arrays/tensors may be declared **statically** on the stack or allocated **dynamically** on the heap. Arrays of up to 7 dimensions are specified by putting comma-separated tuple of dimensions after the variable name. Here we declare a character array (string) of 10 characters to hold the base filename.\n",
    "\n",
    "```Fortran\n",
    "    ! Base filename\n",
    "    character(len=10) :: bname = 'array_'\n",
    "```\n",
    "\n",
    "Then we declare 3 arrays **A_h**, **B_h**, and **C_h** of type **real**, each with 1 dimension and a length of N.\n",
    "\n",
    "```Fortran\n",
    "    ! Declare the tensors to use\n",
    "    ! Memory for these will be allocated on the stack\n",
    "    real :: A_h(N), B_h(N), C_h(N)\n",
    "```"
   ]
  },
  {
   "cell_type": "markdown",
   "id": "6b7c7960-d530-442a-a2d0-55af50d18468",
   "metadata": {},
   "source": [
    "#### Array indexing convention\n",
    "\n",
    "Fortran array indices start at 1 by default. These can be modified at declaration/allocation by using a colon `:` to specify the lower and upper bounds of each dimension of the array. For example, in order for the tensor indices to start with index 0 we could have done this instead.\n",
    "\n",
    "```Fortran\n",
    "    ! Declare the tensors to use\n",
    "    ! Memory for these will be allocated on the stack\n",
    "    real :: A_h(0:N), B_h(0:N), C_h(0:N)\n",
    "```"
   ]
  },
  {
   "cell_type": "markdown",
   "id": "39c5470c-caf2-499a-9a1c-267aabf93cb2",
   "metadata": {},
   "source": [
    "## Call functions and subroutines\n",
    "\n",
    "Fortran has **functions** and **subroutines**. Functions take any number of input variables and return 1 output variable. The output of functions can be used on the right hand side of an assignment statement. For example, the call to the built-in **spacing** function returns the value of floating point spacing from the input floating point value to the next value. Here we use it in the validation step to help calculate the upper and lower bounds on a validation result.\n",
    "\n",
    "```Fortran\n",
    "upper = scratch + eps_mult*spacing(abs(scratch))\n",
    "lower = scratch - eps_mult*spacing(abs(scratch))\n",
    "```\n",
    "\n",
    "**Subroutines** are like functions but they do not return a value. Here we use the built-in subroutine **random_number** to fill the tensors **A_h** and **B_h** with random numbers. All subroutines are called with the `call` statement.\n",
    "\n",
    "```Fortran\n",
    "    ! Fill arrays with random numbers using the\n",
    "    ! Fortran intrinsic function \"random_number\"\n",
    "    call random_number(A_h)\n",
    "    call random_number(B_h)\n",
    "```\n",
    "\n",
    "> Note: For research applications of random number generation it is recommended to investigate the random number generator further and make sure that you have a high quality one.\n",
    "\n",
    "Variables passed to functions and subroutines are generally passed **by reference** as the default. This means a reference/pointer to the variable is passed in and it is possible to modify the input arguments from the function or subroutine. For example the call to **random_number** above modifies the tensors **A_h** in **B_h** in place. To avoid ambiguity it is **best practice** to design functions so they do not modify the input arguments and use subroutines when the contents of input arguments are to be modified."
   ]
  },
  {
   "cell_type": "markdown",
   "id": "01dc9369-5659-453b-b9ae-3224bb7e7e65",
   "metadata": {},
   "source": [
    "## Do loops and array access\n",
    "\n",
    "Loops are made using the `do` construct. Here we loop over `i` from 1 to N inclusive and set elements in **C_h** using elements in **A_h** and **B_h**. Indexing into arrays is done by appending a comma-separated tuple of coordinates to the array name.\n",
    "\n",
    "```Fortran\n",
    "do i=1,N\n",
    "    ! Kernel math\n",
    "    C_h(i) = A_h(i) + B_h(i)\n",
    "end do\n",
    "```\n",
    "\n",
    "Unlike C, which allows the loop variable to be declared in the loop construct we must declare all variables at the beginning of the program, function, or subroutine. For non-deterministic loops there is the corresponding `do while` loop. The above could then be expressed as:\n",
    "\n",
    "```Fortran\n",
    "i=1\n",
    "do while (i<=N)\n",
    "    ! Kernel math\n",
    "    C_h(i) = A_h(i) + B_h(i)\n",
    "    i = i + 1\n",
    "end do\n",
    "```\n",
    "\n",
    "In Fortran we can also perform bulk operations on portions of arrays using the colon operator `:` in a way that is similar to Numpy. We can achieve the same operation on the tensors using this method: \n",
    "\n",
    "```Fortran\n",
    "    ! Could also do it this way, (best practice)\n",
    "    C_h(:) = A_h(:) + B_h(: )\n",
    "```\n",
    "\n",
    "Or we can even do it this way, though for readability it is not preferred because we lose a sense of what rank the tensors are.\n",
    "\n",
    "```Fortran\n",
    "    ! Or even this way (not best practice)\n",
    "    C_h = A_h + B_h\n",
    "```\n",
    "\n",
    "### Loop nests and multi-dimensional indexing\n",
    "\n",
    "Loops can of course be nested. Nesting loops is a common way to cover multi-dimensional arrays. If this was a two dimensional problem it would look something like this:\n",
    "\n",
    "```Fortran\n",
    "do j=1,M\n",
    "    do j=1,N\n",
    "        ! Kernel math\n",
    "        C_h(i,j) = A_h(i,j) + B_h(i,j)\n",
    "    end do\n",
    "end do\n",
    "```\n",
    "\n",
    "Or using indexing operations the above can be written as:\n",
    "\n",
    "```Fortran\n",
    "C_h(:,:) = A_h(:,:) + B_h(:,: )\n",
    "```"
   ]
  },
  {
   "cell_type": "markdown",
   "id": "daef91e2-d2ef-490c-a93f-23d97ae03ab2",
   "metadata": {},
   "source": [
    "#### Array ordering\n",
    "\n",
    "Arrays in Fortran are arranged in **column-major** format. This means that array elements are **contiguous** along the **first** dimension of the array. In CPU code this means that you will be able to make best re-use of cache lines if the **innermost loop** traverses the first dimension of the arrays. In GPU code it is good for performance to make sure that **neighbouring threads** (usually along the first dimension of the Grid) are associated with neighbouring elements along the contiguous dimension of an array. In kernel code on a GPU you are free to then iterate along any of the other array dimensions, and neighbouring threads can share cache lines read in from memory. "
   ]
  },
  {
   "cell_type": "markdown",
   "id": "65298e1e-d691-4dd7-a142-8fd449d49305",
   "metadata": {
    "jp-MarkdownHeadingCollapsed": true
   },
   "source": [
    "## Code validation\n",
    "\n",
    "It is **vital** to have checks and comprehensive tests to make sure your code is running correctly. One way we to do this is to loop over the elements of the computed solution and make sure that it is within an accepted range of a **known solution**. Here we specify that the computed answer must lie within `eps_mult` floating point representations of the validation answer.\n",
    "\n",
    "```Fortran\n",
    "    ! Check the answer\n",
    "    do i=1,N\n",
    "\n",
    "        ! Compute the answer on the CPU\n",
    "        scratch = A_h(i) + B_h(i)\n",
    "\n",
    "        ! Get upper and lower bounds on the computed solution\n",
    "        ! the \"spacing\" intrinsic function gets the \n",
    "        ! floating point spacing from one number to the next\n",
    "        upper = scratch + eps_mult*spacing(abs(scratch))\n",
    "        lower = scratch - eps_mult*spacing(abs(scratch))\n",
    "\n",
    "        ! Check to see if the number \n",
    "        ! is in floating point range of the answer\n",
    "        if  ( .not. ((lower <= C_h(i)) .and. (C_h(i) <= upper))) then\n",
    "            ! Demonstrate line continuation\n",
    "            write(*,*) 'Error, calculated answer at index i = ', &\n",
    "                i, ' was not in range'\n",
    "            success = .false.\n",
    "        end if\n",
    "\n",
    "    end do\n",
    "```\n",
    "\n",
    "This step is a little redundant on CPU code but it will be useful when we perform the tensor addition on another device such as a GPU. "
   ]
  },
  {
   "cell_type": "markdown",
   "id": "137bbbb2-5dbd-4860-a1ba-71542c05c4d8",
   "metadata": {},
   "source": [
    "## If statements and flow control \n",
    "\n",
    "The **if**, **then**, **else if**, **else**, **end if** sequence help with making decisions in code. Here we use the logical **.not.** , **.and.** operators in combination with an **if** statement to determine if **C_h(i)** is in the range (lower, upper) inclusive. The boolean expression for any **if** statement must be enclosed in parentheses `()`."
   ]
  },
  {
   "cell_type": "markdown",
   "id": "0736dd5e-290c-4cd6-a8e4-a2074f541e3a",
   "metadata": {},
   "source": [
    "```Fortran\n",
    "    if  ( .not. ((lower <= C_h(i)) .and. (C_h(i) <= upper))) then\n",
    "        ! Demonstrate line continuation\n",
    "        write(*,*) 'Error, calculated answer at index i = ', &\n",
    "            i, ' was not in range'\n",
    "        success = .false.\n",
    "    end if\n",
    "```"
   ]
  },
  {
   "cell_type": "markdown",
   "id": "c745bc64-1e83-4de5-ad2c-0454e0c2b787",
   "metadata": {},
   "source": [
    "## IO in Fortran"
   ]
  },
  {
   "cell_type": "markdown",
   "id": "0752134a-e994-49cd-93b0-5b0c0fe68360",
   "metadata": {},
   "source": [
    "### Printing to standard output\n",
    "\n",
    "Sometimes we just need to print a value in a Fortran program or write something to disk for validation purposes. The **print** function can write to standard output. We use it in the code at the end:\n",
    "\n",
    "```Fortran\n",
    "    print *, 'Tensor addition passed validation.'\n",
    "```\n",
    "\n",
    "You can specify a format string instead of the `*` and have any number of comma separated variables following it. The format string determines how the following variables are printed, but working through all of those options is left to other reference material. The default format string `*` is usually good enough for debugging purposes.\n",
    "\n",
    "Another function that is useful for IO is **write**. This can output to any number of outputs including files and standard output. Write takes two arguments. The first is the destination for the output and the second is the format string. Using a `*` for the write destination is equivalent to **standard output**. Using `*` for the format string is the default formatter, which is good enough for debugging purposes. In the file [tensoradd_simple.f90](tensoradd_simple.f90) we use `write` to print an error string in case the program did not pass validation."
   ]
  },
  {
   "cell_type": "markdown",
   "id": "bf3c9b0d-f937-4876-8ddf-58a6523e2f48",
   "metadata": {},
   "source": [
    "```Fortran\n",
    "write(*,*) 'Error, calculated answer at index i = ', &\n",
    "                i, ' was not in range'\n",
    "```"
   ]
  },
  {
   "cell_type": "markdown",
   "id": "cd12661e-187b-48b7-ab5d-ef782cc73683",
   "metadata": {},
   "source": [
    "### Printing to standard error\n",
    "\n",
    "The `iso_fortran_env` module that we included at the start of the program gives us the io units `input_unit`, `output_unit`, `error_unit` for standard input, standard output, and standard error. For example, instead of standard output `*` we can write to `error_unit` instead.\n",
    "\n",
    "```Fortran\n",
    "write(error_unit,*) 'Error, calculated answer at index i = ', &\n",
    "                i, ' was not in range'\n",
    "```"
   ]
  },
  {
   "cell_type": "markdown",
   "id": "12c531e0-621c-4aca-b921-24649a23dac1",
   "metadata": {},
   "source": [
    "### Line continuation\n",
    "\n",
    "You may have noticed with the **write** statements above that we continued a line with the `&` character. Unlike C and C++, Fortran doesn't have an end of statement character such as `;` in C, so by default the compiler interprets a new line to mean a new statement. You can modify this and spill a statement to the next line by using the **&** line continuation character."
   ]
  },
  {
   "cell_type": "markdown",
   "id": "cc0bb5fa-bcf5-41b4-a0bd-bc435dd97dcb",
   "metadata": {},
   "source": [
    "### File IO"
   ]
  },
  {
   "cell_type": "markdown",
   "id": "92f27425-6d49-4375-9442-b33150595a69",
   "metadata": {},
   "source": [
    "Sometimes you might need to write variables to disk. Since compute architectures differ in the way they represent numbers, it is **never good practice** to share data using a simple binary dump of variables to file storage. For sharing data use a self-describing file format like [HDF5](https://docs.hdfgroup.org/archive/support/HDF5/doc/fortran/index.html). For diagnostic and debugging purposes dumping program data straight to a file may be helpful. Fortran uses **integers as file handles**, and here we **open** three files for writing the tensors **A_h**, **B_h**, and **C_h** to file storage in binary format."
   ]
  },
  {
   "cell_type": "markdown",
   "id": "e675489e-a58f-401b-9fa3-0894edceb9c8",
   "metadata": {},
   "source": [
    "```Fortran\n",
    "    ! Open the files for writing\n",
    "    open(10, file=trim(bname)//'A_h.dat', &\n",
    "        form='unformatted', status='new', access='stream')\n",
    "    open(11, file=trim(bname)//'B_h.dat', &\n",
    "        form='unformatted', status='new', access='stream')\n",
    "    open(12, file=trim(bname)//'C_h.dat', &\n",
    "        form='unformatted', status='new', access='stream')\n",
    "```\n",
    "\n",
    "The `file` option describes the file to open. The `trim` command returns a copy of `bname` without any trailing blanks and we use the string concatenation operator `//` to construct a filename to output for each array. The further options `form='unformatted'` and `access='stream'` are equivalent to a binary file stream in C++, and the `status='new'` option ensures we don't overwrite an existing file. Once the files are open we can use `write` to write a copy of the arrays to file storage.\n",
    "\n",
    "```Fortran\n",
    "    ! Write the contents of the arrays to the open files \n",
    "    write(10) A_h(:)\n",
    "    write(11) B_h(:)\n",
    "    write(12) C_h(: )\n",
    "```\n",
    "\n",
    "Once the write is complete it is **good practice** to then close the open files. \n",
    "\n",
    "```Fortran\n",
    "    ! Close the files\n",
    "    close(10)\n",
    "    close(11)\n",
    "    close(12 )\n",
    "```"
   ]
  },
  {
   "cell_type": "markdown",
   "id": "27ccf2ec-c36a-486d-97ca-768d7440be55",
   "metadata": {},
   "source": [
    "## Run the example\n",
    "\n",
    "The example application should have already been compiled. Here we source the `env` script to set paths and then run the `tensoradd_simple` application. Notice the creation of the `.dat` files during execution of the program."
   ]
  },
  {
   "cell_type": "code",
   "execution_count": 1,
   "id": "e4435b2a-8422-44d6-9b59-662beaae3092",
   "metadata": {},
   "outputs": [
    {
     "name": "stdout",
     "output_type": "stream",
     "text": [
      " Tensor addition passed validation.\n",
      "array_A_h.dat\t       CMakeLists.txt\t\t  tensoradd_function.f90\n",
      "array_B_h.dat\t       Exercise.ipynb\t\t  tensoradd_module.f90\n",
      "array_C_h.dat\t       Fortran.ipynb\t\t  tensoradd_pointer.f90\n",
      "c_functions.cpp        README.md\t\t  tensoradd_simple.f90\n",
      "chessboard_answer.f90  tensoradd_allocatable.f90  tensor_lib_c.f90\n",
      "chessboard.f90\t       tensoradd_cfun.f90\t  tensor_lib.f90\n"
     ]
    }
   ],
   "source": [
    "!source ../env; tensoradd_simple\n",
    "!ls"
   ]
  },
  {
   "cell_type": "code",
   "execution_count": 2,
   "id": "2317f6f1-71ce-44e2-8f5f-bfdc6a06e710",
   "metadata": {},
   "outputs": [],
   "source": [
    "!rm *.dat"
   ]
  },
  {
   "attachments": {},
   "cell_type": "markdown",
   "id": "b11fb32f-44a8-4a8b-8a77-589fc9a11017",
   "metadata": {},
   "source": [
    "## Dynamic memory allocation\n",
    "\n",
    "Thus far we have been allocating storage for tensors **A_h**, **B_h**, and **C_h** statically. This memory is allocated on the stack when parts of the program runs where that memory is declared. By default this area of memory storage is quite small in comparison to the available memory size, and the size of static allocations **must be known** at compile time. Another area in which memory can be allocated is the heap. With this form of storage, memory can be dynamically allocated and de-allocated from a much larger pool, and the size of the allocations don't need to be determined at compile time."
   ]
  },
  {
   "cell_type": "markdown",
   "id": "581e3192-076a-4522-ac51-7344988fdd15",
   "metadata": {},
   "source": [
    "### Allocatable arrays"
   ]
  },
  {
   "cell_type": "markdown",
   "id": "5042ffb6-fe0b-4a8c-b0a6-8f71d92c2ccb",
   "metadata": {},
   "source": [
    "One way to allocate arrays dynamically is to define arrays with the `allocatable` option and defer the size to a later allocation. \n",
    "\n",
    "#### Example program with allocatable arrays\n",
    "\n",
    "In the file [tensoradd_allocatable.f90](tensoradd_allocatable.f90) is tensor addition performed with allocatable arrays. We declare **A_h**, **B_h**, and **C_h** as allocatable arrays with this line of code:\n",
    "\n",
    "#### Declaration\n",
    "\n",
    "```Fortran\n",
    "! Define allocatable arrays for the tensors\n",
    "! Memory for these will be allocated on the heap\n",
    "real, allocatable, dimension(:) :: A_h, B_h, C_h\n",
    "```\n",
    "\n",
    "The `dimension` directive specifies how many dimensions there are in the array. A single colon for a dimension means that we defer the size of the array to later. If the arrays had more dimensions, (i.e 2) we just put more colons `:` into the dimension option, like this:\n",
    "\n",
    "```Fortran\n",
    "! Define allocatable arrays for the tensors\n",
    "! Memory for these will be allocated on the heap\n",
    "real, allocatable, dimension(:,:) :: A_h, B_h, C_h\n",
    "```"
   ]
  },
  {
   "cell_type": "markdown",
   "id": "7c457d25-05e6-43fa-9714-1ba03d28efc5",
   "metadata": {},
   "source": [
    "#### Allocation\n",
    "\n",
    "The tensors may then be dynamically allocated using the `allocate` statement. Here we allocate memory for tensors **A_h**, **B_h**, and **C_h** in one go.\n",
    "\n",
    "```Fortran\n",
    "   ! Allocate tensors on the heap and check for errors\n",
    "    allocate(A_h(N), B_h(N), C_h(N), stat=ierr)\n",
    "```\n",
    "\n",
    "If we wanted to change the upper and lower bounds we can set them in the allocate statement in a similar way that we did with static arrays.\n",
    "\n",
    "```Fortran\n",
    "   ! Allocate tensors on the heap and check for errors\n",
    "    allocate(A_h(0:N), B_h(0:N), C_h(0:N), stat=ierr)\n",
    "```\n",
    "\n",
    "Higher dimensional arrays are allocated by comma separating each dimension. If they were two dimensional then allocation looks something like this.\n",
    "\n",
    "```Fortran\n",
    "   ! Allocate tensors on the heap and check for errors\n",
    "    allocate(A_h(M,N), B_h(M,N), C_h(M,N), stat=ierr)\n",
    "```\n",
    "\n",
    "Allocation may fail for reasons like there was not enough memory available, so it is always a good idea to check the status of the allocation. Note that we define the integer `ierr` and pass it in to `allocate` through the `stat` option. Then we can check for a bad allocation and `stop` the program if it failed.\n",
    "\n",
    "```Fortran\n",
    "    if (ierr /= 0) then\n",
    "        write(*,*) 'Error, array allocation failed with error code = ', ierr\n",
    "        stop \n",
    "    end if\n",
    "```"
   ]
  },
  {
   "cell_type": "markdown",
   "id": "753dec3d-6a35-493f-b091-1b876cc464b9",
   "metadata": {},
   "source": [
    "#### Cleanup\n",
    "\n",
    "When an array is allocated on the heap it is always good practice to de-allocate  (clean it up) when it is no longer needed.\n",
    "\n",
    "```Fortran\n",
    "! Always free heap memory when you no longer need it\n",
    "deallocate(A_h, B_h, C_h)\n",
    "```"
   ]
  },
  {
   "cell_type": "markdown",
   "id": "3eff2b2d-3e94-45e6-8a17-cbe4a99d784b",
   "metadata": {},
   "source": [
    "#### Run tensoradd_allocatable\n",
    "\n",
    "If we run the application `tensoradd_allocatable` we get the same answer as before:"
   ]
  },
  {
   "cell_type": "code",
   "execution_count": 3,
   "id": "d1889280-de34-4df0-b1df-1263193fcb40",
   "metadata": {},
   "outputs": [
    {
     "name": "stdout",
     "output_type": "stream",
     "text": [
      " Tensor addition passed validation.\n"
     ]
    }
   ],
   "source": [
    "!source ../env; tensoradd_allocatable"
   ]
  },
  {
   "cell_type": "markdown",
   "id": "c35742df-ed17-4627-a509-261c70071250",
   "metadata": {},
   "source": [
    "### Fortran pointers\n",
    "\n",
    "Fortran also has a pointer. Pointers in Fortran are declared with the `pointer` option in addition to a data type. Unlike void pointers in C, Fortran pointers must only \"point\" to objects of the same data type, and there is a restriction in that pointers can only \"point\" to objects with the `target` attribute set as well as memory pointed at by other pointers. Using Fortran pointers is usually not best practice because their misuse can introduce memory safety bugs, however they are useful for interopability with C code in libraries such as HIP. \n",
    "\n",
    "Using the `allocate` command we can allocate memory through a Fortran pointer and treat the pointer as an array. This memory automatically has the `target` attribute set. \n",
    "\n",
    "#### Example program with pointers\n",
    "\n",
    "In the code [tensoradd_pointer.f90](tensoradd_pointer.f90) we declare **A_h**, **B_h**, and **C_h** as pointers to one dimensional allocations of memory as follows:"
   ]
  },
  {
   "cell_type": "markdown",
   "id": "ab5abcc1-2ce1-4c5e-ac2a-f1b3b957038f",
   "metadata": {},
   "source": [
    "#### Declaration\n",
    "\n",
    "```Fortran\n",
    "! Define pointers to memory, initialise to null() for safety\n",
    "real, pointer, dimension(:) :: A_h => null(), B_h => null(), C_h => null()\n",
    "```\n",
    "\n",
    "When pointers don't need to point to something it is good practice to set them to null. Here we initialize the pointers to `null()` at declaration."
   ]
  },
  {
   "cell_type": "markdown",
   "id": "d1576948-154a-498c-98fd-1c321b253a52",
   "metadata": {},
   "source": [
    "#### Allocation\n",
    "\n",
    "The `allocate` statement can allocate memory for a pointer. As before we use the `allocate` command to allocate arrays of `N` reals for **A_h**, **B_h**, and **C_h**.\n",
    "\n",
    "```Fortran\n",
    "! Allocate tensors on the heap and check for errors\n",
    "allocate(A_h(N), B_h(N), C_h(N), stat=ierr)\n",
    "\n",
    "if (ierr /= 0) then\n",
    "    write(*,*) 'Error, array allocation failed with error code = ', ierr\n",
    "    stop \n",
    "end if\n",
    "```\n",
    "\n",
    "These pointers now \"point\" at or are associated with the array allocations. We can use the `associated` function to check if a pointer is pointing to something.\n",
    "\n",
    "```Fortran\n",
    "if (associated(A_h)) then\n",
    "    print *, \"A_h is associated\"\n",
    "end if\n",
    "```\n",
    "\n",
    "Once the alloat"
   ]
  },
  {
   "cell_type": "markdown",
   "id": "a5c78f14-ba2a-4493-b2bc-525461930ddd",
   "metadata": {},
   "source": [
    "#### Pointer remapping\n",
    "\n",
    "A powerful feature of Fortran pointers is that they can be used to \"point\" at a portion of a 1D allocation and even \"upgrade\" the dimensions and bounds of that array access. This is called **pointer remapping**. Remapping targets can only be of rank 1 so that contiguous access is upheld. We demonstrate this in [tensoradd_pointer.f90](tensoradd_pointer.f90) by creating a 2D pointer `D_h`.\n",
    "\n",
    "```Fortran\n",
    "   ! Demonstrate pointer remapping with D_h\n",
    "    real, pointer, dimension(:,:) :: D_h\n",
    "```\n",
    "\n",
    "Then we can point the 2D pointer at a 1D allocation. In doing so we must set the bounds of the allocation. With the code below we change the bounds of `D_h` to be (1:N/2, 1:N/2) and point it to the same memory pointed to by `A_h`:\n",
    "\n",
    "```Fortran\n",
    "    ! Demonstrate pointer remapping.\n",
    "    ! Point a 4x4 2D pointer at the allocated memory\n",
    "    D_h(1:(N/4), 1:(N/4)) => A_h\n",
    "```\n",
    "\n",
    "Access to `D_h` is then treated the same way as any array of size (N/2, N/2). Next, we again change the size of the 2D pointer to 2x2 and point it at the last four elements of the `A_h` allocation.\n",
    "\n",
    "```Fortran    \n",
    "    ! Point a 2D pointer of size 2x2 \n",
    "    ! at the last 4 elements of A_h\n",
    "    D_h(0:1, 0:1) => A_h((N-4):N)\n",
    "```\n",
    "\n",
    "When performing pointer remapping one has to be careful that the mapped pointer does not access memory that is beyond the allocation of the target object."
   ]
  },
  {
   "cell_type": "markdown",
   "id": "c5f4353e-8cbe-47f9-85d4-f2ae18fb11d1",
   "metadata": {},
   "source": [
    "#### De-allocation\n",
    "\n",
    "As with allocatable arrays we can use the `deallocate` function to release memory that the pointers **A_h**, **B_h**, **C_h** are associated with.\n",
    "\n",
    "```Fortran\n",
    "! Always free heap memory when you no longer need it\n",
    "deallocate(A_h, B_h, C_h)\n",
    "```"
   ]
  },
  {
   "cell_type": "markdown",
   "id": "fce3ceb4-bbb5-4cdb-b243-f78e52bb9e04",
   "metadata": {},
   "source": [
    "#### Safety issues with pointers\n",
    "\n",
    "As mentioned before, using pointers carries the risk of introducing **memory safety bugs**. For example once we deallocated **A_h**, then access via the associated pointer **D_h** becomes undefined because the memory it points to **no longer exists**. If we tried to use **D_h** after the underlying memory allocation disappears, then it would result in a memory access violation. If we tried to deallocate `D_h` after `A_h` then it would result in an error. Lets imagine that this code has been worked on for many years and has gotten rather complex. What function or subroutine is responsible for deallocating **A_h**?. When would we know that **A_h** is no longer safe to use? We could have also repointed **A_h** at something else, leaving the original allocation there but no longer accessible. Allocated memory that is no longer accessible is known as a **memory leak**.\n",
    "\n",
    "For these reasons it is best practice to use Fortran pointers only when they are needed, and try to write your code so that dynamic memory allocation/deallocation is performed only in a specific part of your code."
   ]
  },
  {
   "cell_type": "markdown",
   "id": "f34ea7d0-6007-4384-b281-17feba4c662e",
   "metadata": {},
   "source": [
    "#### Run tensoradd_pointer\n",
    "\n",
    "Run the compiled application `tensoradd_pointer` and check that it passes validation."
   ]
  },
  {
   "cell_type": "code",
   "execution_count": 1,
   "id": "0420e9b1-0961-4e9a-8b63-7ad8446ff1e5",
   "metadata": {},
   "outputs": [
    {
     "name": "stdout",
     "output_type": "stream",
     "text": [
      "../env: line 26: module: command not found\n",
      " Tensor addition passed validation.\n"
     ]
    }
   ],
   "source": [
    "!source ../env; tensoradd_pointer"
   ]
  },
  {
   "cell_type": "markdown",
   "id": "05105c94-cb35-46d7-a348-c7768afeb298",
   "metadata": {},
   "source": [
    "## How to create functions and subroutines\n",
    "\n",
    "Functions and subroutines allow for software reuse. \n",
    "\n",
    "### Example program with functions\n",
    "\n",
    "In the code [tensoradd_function.f90](tensoradd_function.f90) we move the processes of running tensor addition and checking the answer to a subroutine called **launch_kernel** and a function called **check**. These functions may be in another source file, however we have chosen to include them at the beginning of the file [tensoradd_function.f90](tensoradd_function.f90). "
   ]
  },
  {
   "cell_type": "markdown",
   "id": "06df3dad-cfc5-4317-a7ac-d85850fec973",
   "metadata": {},
   "source": [
    "### Functions\n",
    "\n",
    "Functions are intended to take any number of arguments and produce one argument as the result. It is good practice to build functions so they **do not modify** their input arguments. Here we have a function that takes as arguments the pointers `A`, `B`, `C`, the integer `N`, and the epsilon multiplier `eps_mult` and produces a `result` or return value in the variable `success`, indicating wether or not validation was successful.\n",
    "\n",
    "```Fortran\n",
    "function check(A, B, C, N, eps_mult) result(success)\n",
    "    !! Function to check to if a tensor addition operation was successful\n",
    "\n",
    "    real, pointer, dimension(:), intent(in) :: A, B, C\n",
    "        !! Pointers to memory passed in\n",
    "\n",
    "    integer, intent(in) :: N\n",
    "        !! N is the total number of elements\n",
    "\n",
    "    real, intent(in) :: eps_mult\n",
    "        !! Epsilon multiplier, how many floating point spacings\n",
    "        !! can the computed answer be from our benchmark answer?\n",
    "\n",
    "    ! Scratch variables\n",
    "    real :: scratch, upper, lower\n",
    "\n",
    "    ! Loop index\n",
    "    integer  :: i\n",
    "\n",
    "    ! Set the return type of the function\n",
    "    logical :: success = .true.\n",
    "\n",
    "    ! Loop over all indices and check tensor addition\n",
    "    do i=1, N\n",
    "        scratch = A(i) + B(i)\n",
    "        ! Spacing is an intrinsic function to get the spacing from\n",
    "        ! one floating point representation to the next\n",
    "        upper = scratch + eps_mult*abs(spacing(scratch))\n",
    "        lower = scratch - eps_mult*abs(spacing(scratch))\n",
    "        if (.not. ( (lower<=C(i)) .and. (C(i)<=upper) ) ) then\n",
    "            write(*,*) \"Error, tensor addition did not work at index = \", i\n",
    "            success = .false.\n",
    "            return\n",
    "        end if\n",
    "    end do\n",
    "\n",
    "    ! We got to here because we didn't return on failure\n",
    "    write(*,*) 'Tensor addition passed validation.'\n",
    "    \n",
    "end function check\n",
    "```"
   ]
  },
  {
   "cell_type": "markdown",
   "id": "6511bcc1-746b-4713-bc49-797e6163987f",
   "metadata": {},
   "source": [
    "Functions are defined by the `function` keyword, a comma-separated tuple of arguments, and a `result` statement containing the return variable.\n",
    "\n",
    "```Fortran\n",
    "function check(A, B, C, N, eps_mult) result(success)\n",
    "```\n",
    "\n",
    "The data type of each argument **must be declared**. Here we declare the data types of the arguments.\n",
    "\n",
    "```Fortran\n",
    "    real, pointer, dimension(:), intent(in) :: A, B, C\n",
    "        !! Pointers to memory passed in\n",
    "\n",
    "    integer, intent(in) :: N\n",
    "        !! N is the total number of elements\n",
    "\n",
    "    real, intent(in) :: eps_mult\n",
    "        !! Epsilon multiplier, how many floating point spacings\n",
    "        !! can the computed answer be from our benchmark answer?\n",
    "```\n",
    "\n",
    "Arguments in Fortran are generally passed **by reference**, so modifying an argument within a function or subroutine will modify the variable passed in. Notice the `intent` option on each argument declaration. The `intent` option has three choices, `in`, `out`, and `inout` to signify that the variable passed is intended to be read-only, write-only, or read-write. It is **good practice** to provide the intent option on arguments, not only for readability but for compiler optimization as well.  \n",
    "\n",
    "During the execution of a function the result variable **must** be declared and then set when the function is called. Within the function we define `success` as a logical. The variable is set to `.true.` by default and then set to `.false.` if validation fails at any point i along **C**.\n",
    "\n",
    "```Fortran\n",
    "    ! Set the return type of the function\n",
    "    logical :: success\n",
    "    success = .true.\n",
    "\n",
    "    ! Loop over all indices and check tensor addition\n",
    "    do i=1, N\n",
    "        scratch = A(i) + B(i)\n",
    "        ! Spacing is an intrinsic function to get the spacing from\n",
    "        ! one floating point representation to the next\n",
    "        upper = scratch + eps_mult*abs(spacing(scratch))\n",
    "        lower = scratch - eps_mult*abs(spacing(scratch))\n",
    "        if (.not. ( (lower<=C(i)) .and. (C(i)<=upper) ) ) then\n",
    "            write(*,*) \"Error, tensor addition did not work at index = \", i\n",
    "            success = .false.\n",
    "            return\n",
    "        end if\n",
    "    end do\n",
    "```\n",
    "\n",
    "Functions must end with the `end function` keyword. It is good practice to also include the name of that which is being ended. "
   ]
  },
  {
   "cell_type": "markdown",
   "id": "829b1982-8149-418e-9d87-50024c9a4729",
   "metadata": {},
   "source": [
    "### Subroutines\n",
    "\n",
    "Subroutines are similar to functions, however they have **no return value** and are intended to be used for situations where the input arguments may be modified. In the file [tensoradd_function.f90](tensoradd_function.f90) we define a subroutine to perform tensor addition (kernel) math over every point in the input arrays **A** and **B**, putting the result in **C**. The rules and best practices for subroutine arguments are similar to that of functions, however we do not need to be concerned about declaring and setting a return type.\n",
    "\n",
    "```Fortran\n",
    "! Run kernel math to perform tensor addition at \n",
    "! every point in input tensors A and B. \n",
    "! Put the result in C\n",
    "subroutine launch_kernel(A, B, C, N)\n",
    "    !! Run a tensor addition kernel over the elements of A, B, and C\n",
    "\n",
    "    real, pointer, dimension(:), intent(inout) :: A, B, C\n",
    "        !! Pointers to memory allocations\n",
    "\n",
    "    integer, intent(in) :: N\n",
    "        !! Total length of the tensors\n",
    "\n",
    "    integer :: i\n",
    "        !! Index into tensors\n",
    "\n",
    "    ! Now run the kernel math at every point in the array\n",
    "    do i=1,N\n",
    "        C(i) = A(i) + B(i)\n",
    "    end do\n",
    "    \n",
    "end subroutine launch_kernel\n",
    "```"
   ]
  },
  {
   "cell_type": "markdown",
   "id": "cb4701e2-89e1-4661-903a-7c8c08148279",
   "metadata": {},
   "source": [
    "### Interfaces\n",
    "\n",
    "Interfaces are usually only necessary when an external function or subroutine (such as a C function) is being called from a Fortran program. However since we **pass Fortran pointers** to `check` and `launch_kernel`, and these are defined **outside the program** we also need to define an `interface` to them from within the body of the program. An interface is just the definition of what the functions and subroutines are, as well as the data types of the arguments and function return types. In the file [tensoradd_function.f90](tensoradd_function.f90) the interface for `check` and `launch_kernel` is declared along with variable declarations.\n",
    "\n",
    "```Fortran\n",
    "    interface\n",
    "        subroutine launch_kernel(A, B, C, N)\n",
    "            real, pointer, dimension(:), intent(in) :: A, B, C\n",
    "            integer, intent(in) :: N\n",
    "        end subroutine launch_kernel\n",
    "\n",
    "        function check(A, B, C, N, eps_mult) result(success)\n",
    "            real, pointer, dimension(:), intent(in) :: A, B, C\n",
    "            integer, intent(in) :: N\n",
    "            real, intent(in) :: eps_mult\n",
    "            logical :: success\n",
    "        end function check\n",
    "    end interface\n",
    "```\n",
    "\n",
    "Constructing an interface for external function is rather tedious and error prone. We could have avoided this by placing the code for `launch_kernel` and `check` after a `contains` statement at the end of the main program.\n",
    "\n",
    "```Fortran\n",
    "    contains\n",
    "\n",
    "    ! The subroutine \"launch_kernel\" and the checking function \"check\"\n",
    "    ! could also have gone here after the \"contains\" statement.\n",
    "    ! Then the interface would not be required\n",
    "\n",
    "end program tensoradd\n",
    "```    "
   ]
  },
  {
   "cell_type": "markdown",
   "id": "dc5c45f1-dcc5-4bc8-8dca-afe7d0ab9ff5",
   "metadata": {},
   "source": [
    "### Calling a function and subroutine\n",
    "\n",
    "Once this is complete then from the main program we can call the `launch_kernel` subroutine to run tensor addition kernel math over the array allocations and run the `check` function to make sure the kernel passes validtion.\n",
    "\n",
    "```Fortran\n",
    "! Call the tensor addition kernel for each element of the array\n",
    "call launch_kernel(A_h, B_h, C_h, N)\n",
    "\n",
    "! Call the check function to check the answer\n",
    "success = check(A_h, B_h, C_h, N, eps_mult)\n",
    "```"
   ]
  },
  {
   "cell_type": "markdown",
   "id": "c4267233-2dd0-4b3b-b43e-ba160d9144ca",
   "metadata": {},
   "source": [
    "### Run the example code\n",
    "\n",
    "Run the compiled application `tensoradd_function` and check that it passes validation."
   ]
  },
  {
   "cell_type": "code",
   "execution_count": 5,
   "id": "c441903c-b111-4eeb-b676-318e69abd2c0",
   "metadata": {},
   "outputs": [
    {
     "name": "stdout",
     "output_type": "stream",
     "text": [
      " Tensor addition passed validation.\n"
     ]
    }
   ],
   "source": [
    "!source ../env; tensoradd_function"
   ]
  },
  {
   "cell_type": "markdown",
   "id": "580910a7-e354-4c2a-9427-6199b9f782cb",
   "metadata": {},
   "source": [
    "## Modules\n",
    "\n",
    "Modules are a way to keep data and the procedures that work on the data contained in one location of your code. A module may be made available to any running part of the program, so the variables and routines in a module are global in nature. Modules can be defined in any file. \n",
    "\n",
    "### Example program with modules\n",
    "\n",
    "In [tensor_lib.f90](tensor_lib.f90) is a Fortran module that contains the tensors **A_h**, **B_h**, and **C_h** and everything needed to work on those tensors. If you open that file we can go through it line by line:"
   ]
  },
  {
   "cell_type": "markdown",
   "id": "d4624149-64ff-4201-bee9-085e80a354d5",
   "metadata": {},
   "source": [
    "### Definition\n",
    "\n",
    "Modules begin with the `module` statement followed by the name of the module:\n",
    "\n",
    "```Fortran\n",
    "module tensor_lib\n",
    "    !! Library module to work with tensors\n",
    "    !! Written by Dr. Toby Potter and Dr. Joseph Schoonover\n",
    "```\n",
    "\n",
    "As with subroutines and functions, a module is ended with the `end module` statement. \n",
    "\n",
    "```Fortran\n",
    "end module tensor_lib\n",
    "```"
   ]
  },
  {
   "cell_type": "markdown",
   "id": "e5e2addf-fa95-45d0-bd86-24c6a031f65a",
   "metadata": {},
   "source": [
    "### Module variables\n",
    "\n",
    "At the beginning of a module you can put any number of `use` statements followed by declarations of variables that are accessible to every function or subroutine in the module. Here we declare a logical variable `allocd` to hold wether or not the memory for **A_h**, **B_h** and **C_h** has been allocated.\n",
    "\n",
    "```Fortran\n",
    "    implicit none\n",
    "\n",
    "    ! Have we already allocated memory?\n",
    "    logical :: allocd = .false.\n",
    "\n",
    "    ! Number of elements in the vectors\n",
    "    integer :: N\n",
    "\n",
    "    ! Pointers to memory on the host\n",
    "    real, pointer, dimension(:) :: A_h => null(), B_h => null(), C_h => null()\n",
    "```"
   ]
  },
  {
   "cell_type": "markdown",
   "id": "00ee49e5-4fb0-488f-9bed-811e77fa84c3",
   "metadata": {},
   "source": [
    "### Make objects and routines private\n",
    "\n",
    "By default, variables and routines in the module are publicly visible from the outside (i.e. when imported from other modules). Using the `private` statement we put any variables we'd like to protect after a `private` statement, like this:\n",
    "\n",
    "```Fortran\n",
    "    ! Declare private anything that we would not like \n",
    "    ! to make public\n",
    "    private :: allocd, N, kernel\n",
    "```"
   ]
  },
  {
   "cell_type": "markdown",
   "id": "1ba3108c-b2a6-4161-a600-cc335a993ab2",
   "metadata": {},
   "source": [
    "### Module functions and subroutines\n",
    "\n",
    "Following a `contains` statement you are free to define any functions or subroutines that is part of the module. In the rest of the module we define:\n",
    "\n",
    "* Function `check` to check the result of tensor addition\n",
    "* Subroutine called `init_mem` to allocate memory for the tensors\n",
    "* Subroutine `kernel` to perform kernel math at a single index `i` in the tensors **A_h**, **B_h**, and **C_h**\n",
    "* Subroutine `launch_kernel` to launch an instance of `kernel` at every point along the tensors.\n",
    "* Subroutine called `free_mem` to de-allocate memory in the tensors."
   ]
  },
  {
   "cell_type": "markdown",
   "id": "f7321952-eaf5-464e-a69d-ad8afee8401c",
   "metadata": {},
   "source": [
    "With this design, the code for allocating and de-allocating memory is in one place, and one can allocate and de-allocate memory as many times as needed."
   ]
  },
  {
   "cell_type": "markdown",
   "id": "8df699d1-726c-4355-b826-7a0400434604",
   "metadata": {},
   "source": [
    "### Use the created module\n",
    "\n",
    "In the file [tensoradd_module.f90](tensoradd_module.f90) we import the module using the `use` statement. Here we use the `only` option to only import the `init_mem`, `init_mem`, `free_mem` and `launch_kernel` subroutines as well as the variables `A_h` and `B_h`. During import we can rename anything using the `=>` operator. Here we say that `init_mem` from the module must be used via the name `alloc_mem` in the program.\n",
    "\n",
    "```Fortran\n",
    "    ! The \"only\" helps to know where things came from\n",
    "    ! can use the \"=>\" operator to use things in modules as something else\n",
    "    ! use tensor_lib, init_mem => alloc_mem\n",
    "    use tensor_lib, only : check, alloc_mem => init_mem, &\n",
    "        free_mem, launch_kernel, A_h, B_h\n",
    "```\n",
    "\n",
    "Now each of the these subroutines and variables are available for use. The benefit of this is that the task of allocating, storing and deallocating is performed in one place in the module.\n",
    "\n",
    "```Fortran\n",
    "    ! Allocate memory \n",
    "    call alloc_mem(N)\n",
    "\n",
    "    ! Fill arrays with random numbers using the\n",
    "    ! Fortran intrinsic function \"random_number\"\n",
    "    call random_number(A_h)\n",
    "    call random_number(B_h)\n",
    "\n",
    "    ! Run the kernel function over each element of the array\n",
    "    call launch_kernel\n",
    "\n",
    "    ! Check the answer\n",
    "    success = check(eps_mult)\n",
    "\n",
    "    ! Release resources\n",
    "    call free_mem\n",
    "```"
   ]
  },
  {
   "cell_type": "markdown",
   "id": "e5cc6adf-45ea-4445-82e5-316702afc522",
   "metadata": {},
   "source": [
    "### Run the example code\n",
    "\n",
    "Run the compiled application `tensoradd_module` and check that it passes validation."
   ]
  },
  {
   "cell_type": "code",
   "execution_count": 34,
   "id": "34be9591-b6c1-4d81-8ace-5392b21dc307",
   "metadata": {},
   "outputs": [
    {
     "name": "stdout",
     "output_type": "stream",
     "text": [
      " Tensor addition passed validation.\n"
     ]
    }
   ],
   "source": [
    "!source ../env; tensoradd_module"
   ]
  },
  {
   "cell_type": "markdown",
   "id": "4fc97e59-ea6d-4680-9708-d97d0f7e541d",
   "metadata": {},
   "source": [
    "## Integrate Fortran and C code\n",
    "\n",
    "Integrating Fortran with C can be challenging, according to [this source](https://fftw.org/doc/Allocating-aligned-memory-in-Fortran.html#:~:text=7.5%20Allocating%20aligned%20memory%20in%20Fortran&text=Unfortunately%2C%20standard%20Fortran%20arrays%20do,the%20fftw_alloc_real%20and%20fftw_alloc_complex%20functions.),  Fortran arrays don't have any guarantee that they will be aligned to any multiple of bytes. Furthermore, aligned memory on the host is crucial when working with frameworks like OpenCL. Whenever you integerate Fortran and C code, it is then a good idea to have a C routine allocate memory with whatever alignment you need, then you can then wrap a Fortran pointer around the allocated memory.\n",
    "\n",
    "### Example program that integrates Fortran and C\n",
    "\n",
    "In the file [tensor_lib_c.f90](tensor_lib_c.f90) is a Fortran module that provides the same functions and subroutines as [tensor_lib.f90](tensor_lib.f90), namely:\n",
    "\n",
    "* A function called `check` to check the result of tensor addition\n",
    "* Subroutine called `init_mem` to allocate memory for the tensors\n",
    "* Subroutine `kernel` to perform kernel math at a single index `i` in the tensors **A_h**, **B_h**, and **C_h**\n",
    "* Subroutine `launch_kernel` to launch an instance of `kernel` at every point along the tensors.\n",
    "* Subroutine called `free_mem` to de-allocate memory in the tensors.\n",
    "\n",
    "However in the `tensor_lib` module in [tensor_lib_c.f90](tensor_lib_c.f90) we are using calls to C functions to provide all the backend functionality. In the file [c_functions.cpp](c_functions.cpp) are four C functions, three of which will be called from [tensor_lib_c.f90](tensor_lib_c.f90):\n",
    "\n",
    "* **c_kernel** runs a kernel element $i$ in arrays `A`, `B`, and `C`\n",
    "* **launch_c_kernel** runs c_kernel over every element in `A`, `B`, and `C`.\n",
    "* **c_alloc** allocates memory that is aligned to a 128 Byte boundary.\n",
    "* **c_free** frees memory that was previously allocated with **c_alloc**."
   ]
  },
  {
   "cell_type": "markdown",
   "id": "56387896-bcc8-42e0-8b4f-18ed03f2b5be",
   "metadata": {},
   "source": [
    "### Prepare C code\n",
    "\n",
    "C code can be made visible to Fortran by wrapping it in an `extern \"C\"` code block like we have done in [c_functions.cpp](c_functions.cpp). This enables the function to have C linkage, meaning the function name won't be mangled during compilation and the Fortran code will be able to call it.\n",
    "\n",
    "```C++\n",
    "extern \"C\" {\n",
    "\n",
    "    // Function to launch c_kernel at every point\n",
    "    // in the domain of A, B, and C\n",
    "    void launch_c_kernel(\n",
    "        float_type* A,\n",
    "        float_type* B,\n",
    "        float_type* C,\n",
    "        int N) {\n",
    "\n",
    "        // Launch an instance of c_kernel\n",
    "        // at every point i in tensors A, B, C\n",
    "        // and run c_kernel over it\n",
    "        for(int i=0; i<N; i++) {\n",
    "            c_kernel(A, B, C, i, N);\n",
    "        }\n",
    "    }\n",
    "\n",
    "    // Function to allocate memory\n",
    "    void* c_alloc(size_t nbytes) {\n",
    "        \n",
    "        // Allocate memory that is aligned \n",
    "        // to a 128 byte boundary\n",
    "        void* ptr = aligned_alloc(128, nbytes);\n",
    "\n",
    "        //void* ptr = calloc(1, nbytes);\n",
    "        if (!ptr) {\n",
    "            printf(\"Memory allocation failed, exiting.\\n\");\n",
    "            exit(1);\n",
    "        }\n",
    "\n",
    "        // If all is good, initialise the memory to 0\n",
    "        std::memset(ptr, '\\0', nbytes);\n",
    "        \n",
    "        return ptr;\n",
    "    }\n",
    "\n",
    "    // Function to free memory\n",
    "    void c_free(void* ptr) {\n",
    "        free(ptr);\n",
    "    }\n",
    "}\n",
    "```"
   ]
  },
  {
   "cell_type": "markdown",
   "id": "e28d0945-60fb-4970-8cd1-3671b6101fb3",
   "metadata": {},
   "source": [
    "### Prepare Fortran code\n",
    "\n",
    "Fortran code that calls C must have an `interface` section with the functions and subroutines defined as well as their arguments. C functions with a `void` return type are regarded as **subroutines** in Fortran. C functions with other return types are similarly regarded as **functions** in Fortran as well. Before we begin we need to use the `iso_c_binding` module which gives us access to C datatypes, as well as helpful utilities and definitions that are useful in working with C.\n",
    "\n",
    "```Fortran\n",
    "    ! Use the ISO Fortran environment module\n",
    "    use iso_c_binding\n",
    "```\n",
    "\n",
    "#### Define an interface\n",
    "\n",
    "Here is the Fortran interface in [tensor_lib_c.f90](tensor_lib_c.f90) for the C functions defined above. Note that each function and subroutine defined in the interface also uses the `iso_c_binding` module to define C datatypes.\n",
    "\n",
    "```Fortran\n",
    "    ! Interface to C kernel functions\n",
    "    interface\n",
    "    \n",
    "        ! Fortran regards a C function with void return type\n",
    "        ! as a subroutine \n",
    "        ! This is the fortran interface to the C function\n",
    "        subroutine launch_c_kernel(A, B, C, N) bind(C)\n",
    "            use iso_c_binding\n",
    "            ! Fortran passes by reference as the default\n",
    "            ! Must have the \"value\" option present to pass by value\n",
    "            ! Otherwise ckernel will receive pointers of type void**\n",
    "            ! instead of void*\n",
    "            type(c_ptr), value :: A, B, C\n",
    "            integer(c_int), value :: N\n",
    "        end subroutine\n",
    "\n",
    "        ! C function to allocate memory\n",
    "        function c_alloc(nbytes) result(ptr) bind(C)\n",
    "            use iso_c_binding\n",
    "            ! Make sure we have the value option set\n",
    "            ! to pass by value\n",
    "            integer(c_size_t), intent(in), value :: nbytes\n",
    "            type(c_ptr) :: ptr\n",
    "        end function c_alloc\n",
    "\n",
    "        ! C function to free memory \n",
    "        subroutine c_free(ptr) bind(C)\n",
    "            use iso_c_binding\n",
    "            ! Make sure we have the value option set\n",
    "            ! to pass by value\n",
    "            type(c_ptr), intent(in), value :: ptr\n",
    "        end subroutine c_free\n",
    "        \n",
    "    end interface\n",
    "```\n",
    "\n",
    "Every function or subroutine defined in the interface has the same number of arguments as the corresponding C function in [c_functions.cpp](c_functions.cpp). In order to bind the name (without mangling) to that of the corresponding C function also notice the presence of the `bind(C)` statement.\n",
    "\n",
    "#### Standard datatypes\n",
    "\n",
    "In Fortran the number of bytes used to represent reals or integers may be easily changed with a compiler option. When passing memory between Fortran an C is it a **very good idea** to use standardised data types from the `iso_fortran_env` module. In [tensor_lib_c.f90](tensor_lib_c.f90) we use the **real32** kind from `iso_fortran_env` to make sure that the pointers always have a consistent datatype that is compatible with `float` in C. \n",
    "\n",
    "```Fortran\n",
    "real(kind=real32), pointer, dimension(:) :: A_h => null(), B_h => null(), C_h => null()\n",
    "```\n",
    "\n",
    "Alternatively, we could also have used the `c_float` kind from the `iso_c_binding` module. \n",
    "\n",
    "#### Fortran equivalent of void*\n",
    "\n",
    "The data type of arguments in and out of the functions and subroutines are defined in the interface. The Fortran `type(c_ptr)` is equivalent to `void*` in C/C++. Also notice that integers passed in can have a type of `c_int` or `c_size_t` that correspond to their C/C++ equivalents.\n",
    "\n",
    "#### Pass by value instead\n",
    "\n",
    "When functions are called from Fortran, remember that arguments are usually passed **by reference** instead of by **value**. This means that by default the C function will receive a **pointer** to the argument instead of the actual value of the argument. If you are trying to pass a pointer of `type(c_ptr)` then the C function by default will receive a **reference** to that pointer, which is a pointer to a pointer of type `void**`. You can modify this behaviour by adding the `value` option for each input argument in the interface. Then the **value** of each argument will be passed to the C function instead and the C function will receive a pointer of type `void*`."
   ]
  },
  {
   "cell_type": "markdown",
   "id": "c54b28f4-cf72-4a9d-a6c3-806821eea373",
   "metadata": {},
   "source": [
    "### Call C from Fortran"
   ]
  },
  {
   "cell_type": "markdown",
   "id": "f587487d-5b2a-494c-9dc2-6ba3294d5f2e",
   "metadata": {},
   "source": [
    "In the module [tensor_lib_c.f90](tensor_lib_c.f90) we call C code from the Fortran subroutines `init_mem`, `launch_kernel` and `free_mem`. In `init_mem` we call the function `c_alloc` (defined in [c_functions.cpp](c_functions.cpp)) that allocates aligned memory and returns a C pointer. \n",
    "\n",
    "#### Fortran data types to C equivalents\n",
    "\n",
    "When calling C functions it is **vital** that the input data type is the same type and precision as what the C function is expecting. We pass in an integer of type `size_t` by using the Fortran `int` function to cast the input argument (number of bytes to allocate) to an integer of type `c_size_t` defined in the `iso_c_binding` module.\n",
    "\n",
    "```Fortran\n",
    "! Allocate memory for arrays using C functions\n",
    "temp_cptr = c_alloc(int(N_in*sizeof(temp_real), c_size_t))\n",
    "```\n",
    "\n",
    "#### C pointers to Fortran pointers\n",
    "\n",
    "The returned data type is of `type(c_ptr)`. We convert this pointer to a Fortran pointer using the `c_f_pointer` subroutine. At the same time we have the option of passing in a shape ([N_in]) for the created Fortran pointer\n",
    "\n",
    "```\n",
    "call c_f_pointer(temp_cptr, A_h, [N_in])\n",
    "```\n",
    "\n",
    "#### Fortran pointers to C pointers\n",
    "\n",
    "The `launch_kernel` subroutine in [tensor_lib_c.f90](tensor_lib_c.f90) calls the C function `launch_c_kernel` from [c_functions.cpp](c_functions.cpp). It expects three arguments of `type(c_ptr)` and one integer of type `c_int`. We use the function `c_loc` to get a void pointer to the starting address for the Fortran pointers `A_h`, `B_h`, and `C_h`.\n",
    "\n",
    "```Fortran\n",
    "call launch_c_kernel( &\n",
    "    c_loc(A_h), &\n",
    "    c_loc(B_h), &\n",
    "    c_loc(C_h), &\n",
    "    int(N, c_int) &\n",
    ")\n",
    "```\n",
    "\n",
    "One could also have called `c_loc` to get the address of the first element of `A_h`, `B_h`, and `C_h`, like this:\n",
    "\n",
    "```Fortran\n",
    "call launch_c_kernel( &\n",
    "    c_loc(A_h(1)), &\n",
    "    c_loc(B_h(1)), &\n",
    "    c_loc(C_h(1)), &\n",
    "    int(N, c_int) &\n",
    ")\n",
    "```\n",
    "\n",
    "The pointer returned is the same, however this is a **potential source of a bug** if the pointers are defined to have lower bounds (i.e 0). In a similar manner we use `c_loc` again in the subroutine `free_mem` in [tensor_lib_c.f90](tensor_lib_c.f90) to get the C address of Fortran pointers for deallocation.\n",
    "\n",
    "```Fortran\n",
    "    ! De-allocate memory using calls to C functions\n",
    "    call c_free(c_loc(A_h))\n",
    "    call c_free(c_loc(B_h))\n",
    "    call c_free(c_loc(C_h))\n",
    "```"
   ]
  },
  {
   "cell_type": "markdown",
   "id": "4195a14a-4f09-46e2-8cef-d6031dc8a676",
   "metadata": {},
   "source": [
    "#### Run the example code\n",
    "\n",
    "Run the compiled application `tensoradd_cfun` and ensure that it passes validation."
   ]
  },
  {
   "cell_type": "code",
   "execution_count": 6,
   "id": "ccaad862-aba4-47fc-a51f-18e0b63594e5",
   "metadata": {},
   "outputs": [
    {
     "name": "stdout",
     "output_type": "stream",
     "text": [
      " Tensor addition passed validation.\n"
     ]
    }
   ],
   "source": [
    "!source ../env; tensoradd_cfun"
   ]
  },
  {
   "cell_type": "markdown",
   "id": "034036a9-a22f-4bc7-a1df-c4f96201cc36",
   "metadata": {},
   "source": [
    "<address>\n",
    "Written by Dr. Toby Potter of <a href=\"https://www.pelagos-consulting.com\">Pelagos Consulting and Education</a> and Dr. Joe Schoonover from <a href=\"https://www.fluidnumerics.com\">Fluid Numerics</a>. All trademarks mentioned in this page are the property of their prospective owners.\n",
    "</address> "
   ]
  }
 ],
 "metadata": {
  "kernelspec": {
   "display_name": "Python 3 (ipykernel)",
   "language": "python",
   "name": "python3"
  },
  "language_info": {
   "codemirror_mode": {
    "name": "ipython",
    "version": 3
   },
   "file_extension": ".py",
   "mimetype": "text/x-python",
   "name": "python",
   "nbconvert_exporter": "python",
   "pygments_lexer": "ipython3",
   "version": "3.10.12"
  }
 },
 "nbformat": 4,
 "nbformat_minor": 5
}
