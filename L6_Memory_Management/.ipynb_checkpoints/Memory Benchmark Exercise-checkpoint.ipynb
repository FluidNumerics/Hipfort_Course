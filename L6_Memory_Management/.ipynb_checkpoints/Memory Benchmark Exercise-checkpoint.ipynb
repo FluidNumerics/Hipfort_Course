{
 "cells": [
  {
   "cell_type": "markdown",
   "id": "db3da32e-a5c1-45dc-beca-786359f0f82f",
   "metadata": {},
   "source": [
    "# Memory Benchmark Exercise"
   ]
  }
 ],
 "metadata": {
  "kernelspec": {
   "display_name": "Python 3 (ipykernel)",
   "language": "python",
   "name": "python3"
  },
  "language_info": {
   "codemirror_mode": {
    "name": "ipython",
    "version": 3
   },
   "file_extension": ".py",
   "mimetype": "text/x-python",
   "name": "python",
   "nbconvert_exporter": "python",
   "pygments_lexer": "ipython3",
   "version": "3.9.13"
  }
 },
 "nbformat": 4,
 "nbformat_minor": 5
}
